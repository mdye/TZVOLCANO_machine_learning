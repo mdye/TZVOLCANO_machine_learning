{
 "cells": [
  {
   "cell_type": "code",
   "execution_count": null,
   "id": "incorporated-report",
   "metadata": {},
   "outputs": [],
   "source": [
    "from sklearn import preprocessing\n",
    "\n",
    "# Python ≥3.5 is required\n",
    "import sys\n",
    "assert sys.version_info >= (3, 5)\n",
    "\n",
    "# Scikit-Learn ≥0.20 is required\n",
    "import sklearn\n",
    "assert sklearn.__version__ >= \"0.20\"\n",
    "\n",
    "try:\n",
    "    # %tensorflow_version only exists in Colab.\n",
    "    %tensorflow_version 2.x\n",
    "    IS_COLAB = True\n",
    "except Exception:\n",
    "    IS_COLAB = False\n",
    "\n",
    "# TensorFlow ≥2.0 is required\n",
    "import tensorflow as tf\n",
    "from tensorflow import keras\n",
    "assert tf.__version__ >= \"2.0\"\n",
    "\n",
    "if not tf.config.list_physical_devices('GPU'):\n",
    "    print(\"No GPU was detected. LSTMs and CNNs can be very slow without a GPU.\")\n",
    "    if IS_COLAB:\n",
    "        print(\"Go to Runtime > Change runtime and select a GPU hardware accelerator.\")\n",
    "\n",
    "# Common imports\n",
    "import numpy as np\n",
    "import os\n",
    "from pathlib import Path\n",
    "\n",
    "# to make this notebook's output stable across runs\n",
    "np.random.seed(42)\n",
    "tf.random.set_seed(42)\n",
    "\n",
    "# To plot pretty figures\n",
    "%matplotlib inline\n",
    "import matplotlib as mpl\n",
    "import matplotlib.pyplot as plt\n",
    "mpl.rc('axes', labelsize=14)\n",
    "mpl.rc('xtick', labelsize=12)\n",
    "mpl.rc('ytick', labelsize=12)\n",
    "\n",
    "# Where to save the figures\n",
    "PROJECT_ROOT_DIR = \".\"\n",
    "CHAPTER_ID = \"rnn\"\n",
    "IMAGES_PATH = os.path.join(PROJECT_ROOT_DIR, \"images\", CHAPTER_ID)\n",
    "os.makedirs(IMAGES_PATH, exist_ok=True)\n",
    "\n",
    "def save_fig(fig_id, tight_layout=True, fig_extension=\"png\", resolution=300):\n",
    "    path = os.path.join(IMAGES_PATH, fig_id + \".\" + fig_extension)\n",
    "    print(\"Saving figure\", fig_id)\n",
    "    if tight_layout:\n",
    "        plt.tight_layout()\n",
    "    plt.savefig(path, format=fig_extension, dpi=resolution)"
   ]
  },
  {
   "cell_type": "code",
   "execution_count": null,
   "id": "proof-storm",
   "metadata": {},
   "outputs": [],
   "source": [
    "def generate_time_series(batch_size, n_steps):\n",
    "    freq1, freq2, offsets1, offsets2 = np.random.rand(4, batch_size, 1)\n",
    "    time = np.linspace(0, 1, n_steps)\n",
    "    series = 0.5 * np.sin((time - offsets1) * (freq1 * 10 + 10))  #   wave 1\n",
    "    series += 0.2 * np.sin((time - offsets2) * (freq2 * 20 + 20)) # + wave 2\n",
    "    series += 0.1 * (np.random.rand(batch_size, n_steps) - 0.5)   # + noise\n",
    "\n",
    "    final_series = series[..., np.newaxis].astype(np.float32)\n",
    "    final_series = final_series.astype(np.float32)\n",
    "    return final_series"
   ]
  },
  {
   "cell_type": "code",
   "execution_count": null,
   "id": "honey-knife",
   "metadata": {},
   "outputs": [],
   "source": [
    "# np.random.seed(42)\n",
    "\n",
    "# n_steps = 50\n",
    "# series = generate_time_series(10000, n_steps + 1)\n",
    "# X_train, y_train = series[:7000, :n_steps], series[:7000, -1]\n",
    "# X_valid, y_valid = series[7000:9000, :n_steps], series[7000:9000, -1]\n",
    "# X_test, y_test = series[9000:, :n_steps], series[9000:, -1]"
   ]
  },
  {
   "cell_type": "code",
   "execution_count": null,
   "id": "persistent-allen",
   "metadata": {},
   "outputs": [],
   "source": [
    "# https://www.geeksforgeeks.org/numpy-ndarray/\n",
    "\n",
    "# print(\"Array is of type: (series): \", type(series))\n",
    "# print(\"No. of dimensions: (series): \", series.ndim)\n",
    "# print(\"Shape of array: (series): \", series.shape)\n",
    "# print(\"Size of array: (series): \", series.size)\n",
    "# print(\"Array stores elements of type: (series): \", series.dtype)\n"
   ]
  },
  {
   "cell_type": "code",
   "execution_count": null,
   "id": "tutorial-battery",
   "metadata": {},
   "outputs": [],
   "source": [
    "def plot_series(series, y=None, y_pred=None, x_label=\"$t$\", y_label=\"$x(t)$\"):\n",
    "    plt.plot(series, \".-\")\n",
    "    if y is not None:\n",
    "        plt.plot(n_steps, y, \"bx\", markersize=10)\n",
    "    if y_pred is not None:\n",
    "        plt.plot(n_steps, y_pred, \"ro\")\n",
    "    plt.grid(True)\n",
    "    if x_label:\n",
    "        plt.xlabel(x_label, fontsize=16)\n",
    "    if y_label:\n",
    "        plt.ylabel(y_label, fontsize=16, rotation=0)\n",
    "    plt.hlines(0, 0, 100, linewidth=1)\n",
    "    plt.axis([0, n_steps + 1, -1, 1])"
   ]
  },
  {
   "cell_type": "code",
   "execution_count": null,
   "id": "saved-pillow",
   "metadata": {},
   "outputs": [],
   "source": [
    "# Early version of chords GUI interface\n",
    "from chords_gui import chords_gui \n",
    "\n",
    "# Render the data download widget\n",
    "domain = 'tzvolcano.chordsrt.com'\n",
    "chords = chords_gui(domain)\n",
    "\n",
    "# Define the initial start and end date for the date selector\n",
    "start_date_string = '2021-01-01'\n",
    "end_date_string = '2021-01-05'\n",
    "\n",
    "# Generate the uer interface\n",
    "chords.start_end_widgets(start_date_string, end_date_string)"
   ]
  },
  {
   "cell_type": "code",
   "execution_count": null,
   "id": "harmful-topic",
   "metadata": {},
   "outputs": [],
   "source": [
    "chords.select_data_file()"
   ]
  },
  {
   "cell_type": "code",
   "execution_count": null,
   "id": "prescribed-cursor",
   "metadata": {},
   "outputs": [],
   "source": [
    "# Get the selected file to use\n",
    "file_name = chords.available_data_files.value\n",
    "print(file_name)\n",
    "\n",
    "original_data = chords.load_data_from_file(file_name)"
   ]
  },
  {
   "cell_type": "code",
   "execution_count": null,
   "id": "toxic-runner",
   "metadata": {},
   "outputs": [],
   "source": [
    "# Calculate the seconds_since_epoch variable\n",
    "# original_data[\"seconds_since_epoch\"] = original_data['Time'].astype(np.int64)\n",
    "\n",
    "# Show all the keys (variable names) in the loaded data set\n",
    "# original_data.keys()"
   ]
  },
  {
   "cell_type": "code",
   "execution_count": null,
   "id": "responsible-booking",
   "metadata": {},
   "outputs": [],
   "source": [
    "# Remove the \"Time\" variable from the data set, as it is not useful for the model\n",
    "height_data = original_data.drop([\"Time\", \"Longitude\", \"Latitude\"], axis=1)\n",
    "\n",
    "# Print out the remaing variable names, just to see we did remove \"Time\"\n",
    "print(height_data.keys())\n",
    "print(type(height_data))"
   ]
  },
  {
   "cell_type": "code",
   "execution_count": null,
   "id": "narrow-heart",
   "metadata": {},
   "outputs": [],
   "source": [
    "# def generate_time_series(batch_size, n_steps):\n",
    "#     freq1, freq2, offsets1, offsets2 = np.random.rand(4, batch_size, 1)\n",
    "#     time = np.linspace(0, 1, n_steps)\n",
    "#     series = 0.5 * np.sin((time - offsets1) * (freq1 * 10 + 10))  #   wave 1\n",
    "#     series += 0.2 * np.sin((time - offsets2) * (freq2 * 20 + 20)) # + wave 2\n",
    "#     series += 0.1 * (np.random.rand(batch_size, n_steps) - 0.5)   # + noise\n",
    "#     return series[..., np.newaxis].astype(np.float32)"
   ]
  },
  {
   "cell_type": "code",
   "execution_count": null,
   "id": "continent-commons",
   "metadata": {},
   "outputs": [],
   "source": [
    "n_steps = 50000\n",
    "\n",
    "height = height_data['Height'].to_numpy()\n",
    "\n",
    "# Rescale everything to the range between -1 and 1\n",
    "height = np.interp(height, (height.min(), height.max()), (-1, +1))\n",
    "height = height[:n_steps+1]\n",
    "\n",
    "# height_series = height[..., np.newaxis].astype(np.float32)\n",
    "height_series = np.array([height])\n",
    "height_series = height_series[..., np.newaxis].astype(np.float32)\n",
    "\n",
    "X_train = np.array(height_series[:,:-1])\n",
    "y_train = np.array(height_series[:,-1])\n",
    "# print(type(height))\n",
    "# print(y_train)\n",
    "\n",
    "\n",
    "print(\"Array is of type: (height_series): \", type(height_series))\n",
    "print(\"No. of dimensions: (height_series): \", height_series.ndim)\n",
    "print(\"Shape of array: (height_series): \", height_series.shape)\n",
    "print(\"Size of array: (height_series): \", height_series.size)\n",
    "print(\"Array stores elements of type: (height_series): \", height_series.dtype)\n",
    "print(\"\")\n",
    "print(\"Array is of type: (X_train): \", type(X_train))\n",
    "print(\"No. of dimensions: (X_train): \", X_train.ndim)\n",
    "print(\"Shape of array: (X_train): \", X_train.shape)\n",
    "print(\"Size of array: (X_train): \", X_train.size)\n",
    "print(\"Array stores elements of type: (X_train): \", X_train.dtype)\n",
    "print(\"\")\n",
    "print(\"Array is of type: (y_train): \", type(y_train))\n",
    "print(\"No. of dimensions: (y_train): \", y_train.ndim)\n",
    "print(\"Shape of array: (y_train): \", y_train.shape)\n",
    "print(\"Size of array: (y_train): \", y_train.size)\n",
    "print(\"Array stores elements of type: (y_train): \", y_train.dtype)\n",
    "print(\"\")"
   ]
  },
  {
   "cell_type": "code",
   "execution_count": null,
   "id": "following-egyptian",
   "metadata": {},
   "outputs": [],
   "source": [
    "# print(X_train)\n",
    "plot_series(X_train[0, :, 0])"
   ]
  },
  {
   "cell_type": "code",
   "execution_count": null,
   "id": "instant-journey",
   "metadata": {},
   "outputs": [],
   "source": [
    "tf.random.set_seed(42)\n",
    "\n",
    "model = keras.models.Sequential([\n",
    "    keras.layers.SimpleRNN(20, return_sequences=True, input_shape=[None, 1]),\n",
    "    keras.layers.SimpleRNN(20),\n",
    "    keras.layers.Dense(1)\n",
    "])\n",
    "\n",
    "model.compile(loss=\"mse\", optimizer=\"adam\")\n",
    "\n",
    "# history = model.fit(X_train, y_train, epochs=20,\n",
    "#                     validation_data=(X_valid, y_valid))\n",
    "\n",
    "history = model.fit(X_train, y_train, epochs=20,)"
   ]
  },
  {
   "cell_type": "code",
   "execution_count": null,
   "id": "returning-young",
   "metadata": {},
   "outputs": [],
   "source": [
    "# np.random.seed(43) # not 42, as it would give the first series in the train set\n",
    "\n",
    "# series = generate_time_series(1, n_steps + 10)\n",
    "# X_new, Y_new = series[:, :n_steps], series[:, n_steps:]\n",
    "# X = X_new\n",
    "# for step_ahead in range(10):\n",
    "#     y_pred_one = model.predict(X[:, step_ahead:])[:, np.newaxis, :]\n",
    "#     X = np.concatenate([X, y_pred_one], axis=1)\n",
    "\n",
    "# Y_pred = X[:, n_steps:]"
   ]
  },
  {
   "cell_type": "code",
   "execution_count": null,
   "id": "christian-sodium",
   "metadata": {},
   "outputs": [],
   "source": [
    "n_steps = 50000\n",
    "\n",
    "height = height_data['Height'].to_numpy()\n",
    "height = np.interp(height, (height.min(), height.max()), (-1, +1))\n",
    "height = height[:n_steps+10]\n",
    "\n",
    "# height_series = height[..., np.newaxis].astype(np.float32)\n",
    "height_series = np.array([height])\n",
    "height_series = height_series[..., np.newaxis].astype(np.float32)\n",
    "\n",
    "# series = generate_time_series(1, n_steps + 10)\n",
    "\n",
    "X_new, Y_new = height_series[:, :n_steps], height_series[:, n_steps:]\n",
    "X = X_new\n",
    "for step_ahead in range(10):\n",
    "    y_pred_one = model.predict(X[:, step_ahead:])[:, np.newaxis, :]\n",
    "#     print(y_pred_one)\n",
    "    X = np.concatenate([X, y_pred_one], axis=1)\n",
    "\n",
    "Y_pred = X[:, n_steps:]"
   ]
  },
  {
   "cell_type": "code",
   "execution_count": null,
   "id": "employed-basketball",
   "metadata": {},
   "outputs": [],
   "source": [
    "Y_pred.shape"
   ]
  },
  {
   "cell_type": "code",
   "execution_count": null,
   "id": "educated-benjamin",
   "metadata": {},
   "outputs": [],
   "source": [
    "def plot_multiple_forecasts(X, Y, Y_pred):\n",
    "    n_steps = X.shape[1]\n",
    "    ahead = Y.shape[1]\n",
    "    plot_series(X[0, :, 0])\n",
    "    plt.plot(np.arange(n_steps, n_steps + ahead), Y[0, :, 0], \"ro-\", label=\"Actual\")\n",
    "    plt.plot(np.arange(n_steps, n_steps + ahead), Y_pred[0, :, 0], \"bx-\", label=\"Forecast\", markersize=10)\n",
    "    plt.axis([0, n_steps + ahead, -1, 1])\n",
    "    plt.legend(fontsize=14)\n",
    "\n",
    "plot_multiple_forecasts(X_new, Y_new, Y_pred)\n",
    "save_fig(\"forecast_ahead_plot\")\n",
    "plt.show()"
   ]
  },
  {
   "cell_type": "code",
   "execution_count": null,
   "id": "cutting-appendix",
   "metadata": {},
   "outputs": [],
   "source": [
    "np.random.seed(42)\n",
    "\n",
    "n_steps = 50\n",
    "series = generate_time_series(10000, n_steps + 10)\n",
    "X_train, Y_train = series[:7000, :n_steps], series[:7000, -10:, 0]\n",
    "X_valid, Y_valid = series[7000:9000, :n_steps], series[7000:9000, -10:, 0]\n",
    "X_test, Y_test = series[9000:, :n_steps], series[9000:, -10:, 0]"
   ]
  },
  {
   "cell_type": "code",
   "execution_count": null,
   "id": "municipal-bobby",
   "metadata": {},
   "outputs": [],
   "source": [
    "X = X_valid\n",
    "for step_ahead in range(10):\n",
    "    y_pred_one = model.predict(X)[:, np.newaxis, :]\n",
    "    X = np.concatenate([X, y_pred_one], axis=1)\n",
    "\n",
    "Y_pred = X[:, n_steps:, 0]"
   ]
  },
  {
   "cell_type": "code",
   "execution_count": null,
   "id": "joint-remains",
   "metadata": {},
   "outputs": [],
   "source": [
    "Y_pred.shape"
   ]
  },
  {
   "cell_type": "code",
   "execution_count": null,
   "id": "continental-theta",
   "metadata": {},
   "outputs": [],
   "source": [
    "np.mean(keras.metrics.mean_squared_error(Y_valid, Y_pred))"
   ]
  },
  {
   "cell_type": "code",
   "execution_count": null,
   "id": "intelligent-round",
   "metadata": {},
   "outputs": [],
   "source": [
    "\n",
    "Y_naive_pred = Y_valid[:, -1:]\n",
    "np.mean(keras.metrics.mean_squared_error(Y_valid, Y_naive_pred))"
   ]
  },
  {
   "cell_type": "code",
   "execution_count": null,
   "id": "operational-memphis",
   "metadata": {},
   "outputs": [],
   "source": [
    "np.random.seed(42)\n",
    "tf.random.set_seed(42)\n",
    "\n",
    "model = keras.models.Sequential([\n",
    "    keras.layers.Flatten(input_shape=[50, 1]),\n",
    "    keras.layers.Dense(10)\n",
    "])\n",
    "\n",
    "model.compile(loss=\"mse\", optimizer=\"adam\")\n",
    "history = model.fit(X_train, Y_train, epochs=20,\n",
    "                    validation_data=(X_valid, Y_valid))"
   ]
  },
  {
   "cell_type": "code",
   "execution_count": null,
   "id": "significant-marsh",
   "metadata": {},
   "outputs": [],
   "source": [
    "np.random.seed(42)\n",
    "tf.random.set_seed(42)\n",
    "\n",
    "model = keras.models.Sequential([\n",
    "    keras.layers.SimpleRNN(20, return_sequences=True, input_shape=[None, 1]),\n",
    "    keras.layers.SimpleRNN(20),\n",
    "    keras.layers.Dense(10)\n",
    "])\n",
    "\n",
    "model.compile(loss=\"mse\", optimizer=\"adam\")\n",
    "history = model.fit(X_train, Y_train, epochs=20,\n",
    "                    validation_data=(X_valid, Y_valid))"
   ]
  },
  {
   "cell_type": "code",
   "execution_count": null,
   "id": "metropolitan-carter",
   "metadata": {},
   "outputs": [],
   "source": [
    "np.random.seed(43)\n",
    "\n",
    "series = generate_time_series(1, 50 + 10)\n",
    "X_new, Y_new = series[:, :50, :], series[:, -10:, :]\n",
    "Y_pred = model.predict(X_new)[..., np.newaxis]"
   ]
  },
  {
   "cell_type": "code",
   "execution_count": null,
   "id": "european-hypothetical",
   "metadata": {},
   "outputs": [],
   "source": [
    "plot_multiple_forecasts(X_new, Y_new, Y_pred)\n",
    "plt.show()"
   ]
  },
  {
   "cell_type": "code",
   "execution_count": null,
   "id": "intended-mixer",
   "metadata": {},
   "outputs": [],
   "source": [
    "np.random.seed(42)\n",
    "\n",
    "n_steps = 50\n",
    "series = generate_time_series(10000, n_steps + 10)\n",
    "X_train = series[:7000, :n_steps]\n",
    "X_valid = series[7000:9000, :n_steps]\n",
    "X_test = series[9000:, :n_steps]\n",
    "Y = np.empty((10000, n_steps, 10))\n",
    "for step_ahead in range(1, 10 + 1):\n",
    "    Y[..., step_ahead - 1] = series[..., step_ahead:step_ahead + n_steps, 0]\n",
    "Y_train = Y[:7000]\n",
    "Y_valid = Y[7000:9000]\n",
    "Y_test = Y[9000:]"
   ]
  },
  {
   "cell_type": "code",
   "execution_count": null,
   "id": "synthetic-giant",
   "metadata": {},
   "outputs": [],
   "source": [
    "X_train.shape, Y_train.shape"
   ]
  },
  {
   "cell_type": "code",
   "execution_count": null,
   "id": "impaired-bridge",
   "metadata": {},
   "outputs": [],
   "source": [
    "np.random.seed(42)\n",
    "tf.random.set_seed(42)\n",
    "\n",
    "model = keras.models.Sequential([\n",
    "    keras.layers.SimpleRNN(20, return_sequences=True, input_shape=[None, 1]),\n",
    "    keras.layers.SimpleRNN(20, return_sequences=True),\n",
    "    keras.layers.TimeDistributed(keras.layers.Dense(10))\n",
    "])\n",
    "\n",
    "def last_time_step_mse(Y_true, Y_pred):\n",
    "    return keras.metrics.mean_squared_error(Y_true[:, -1], Y_pred[:, -1])\n",
    "\n",
    "model.compile(loss=\"mse\", optimizer=keras.optimizers.Adam(lr=0.01), metrics=[last_time_step_mse])\n",
    "history = model.fit(X_train, Y_train, epochs=20,\n",
    "                    validation_data=(X_valid, Y_valid))"
   ]
  },
  {
   "cell_type": "code",
   "execution_count": null,
   "id": "natural-visitor",
   "metadata": {},
   "outputs": [],
   "source": [
    "np.random.seed(43)\n",
    "\n",
    "series = generate_time_series(1, 50 + 10)\n",
    "X_new, Y_new = series[:, :50, :], series[:, 50:, :]\n",
    "Y_pred = model.predict(X_new)[:, -1][..., np.newaxis]"
   ]
  },
  {
   "cell_type": "code",
   "execution_count": null,
   "id": "fifteen-procurement",
   "metadata": {},
   "outputs": [],
   "source": [
    "plot_multiple_forecasts(X_new, Y_new, Y_pred)\n",
    "plt.show()"
   ]
  },
  {
   "cell_type": "code",
   "execution_count": null,
   "id": "optional-dependence",
   "metadata": {},
   "outputs": [],
   "source": []
  }
 ],
 "metadata": {
  "kernelspec": {
   "display_name": "Python 3",
   "language": "python",
   "name": "python3"
  },
  "language_info": {
   "codemirror_mode": {
    "name": "ipython",
    "version": 3
   },
   "file_extension": ".py",
   "mimetype": "text/x-python",
   "name": "python",
   "nbconvert_exporter": "python",
   "pygments_lexer": "ipython3",
   "version": "3.9.1"
  }
 },
 "nbformat": 4,
 "nbformat_minor": 5
}
