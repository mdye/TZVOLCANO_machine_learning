{
 "cells": [
  {
   "cell_type": "code",
   "execution_count": 1,
   "id": "roman-hands",
   "metadata": {},
   "outputs": [
    {
     "data": {
      "application/vnd.jupyter.widget-view+json": {
       "model_id": "9b83d76fa18942e3a09d33c24dc91ceb",
       "version_major": 2,
       "version_minor": 0
      },
      "text/plain": [
       "HBox(children=(Select(description='Instrument ID: ', options=('1', '2', '3'), value='1'),))"
      ]
     },
     "metadata": {},
     "output_type": "display_data"
    },
    {
     "data": {
      "application/vnd.jupyter.widget-view+json": {
       "model_id": "7be84923db4449e3b4ee8a23d3bb8054",
       "version_major": 2,
       "version_minor": 0
      },
      "text/plain": [
       "HBox(children=(DatePicker(value=datetime.datetime(2020, 2, 1, 0, 0), description='Start Date'), DatePicker(val…"
      ]
     },
     "metadata": {},
     "output_type": "display_data"
    },
    {
     "data": {
      "application/vnd.jupyter.widget-view+json": {
       "model_id": "5a7e70dfc31349fea85f6badd598cdad",
       "version_major": 2,
       "version_minor": 0
      },
      "text/plain": [
       "HBox(children=(Button(description='Download File', style=ButtonStyle()),))"
      ]
     },
     "metadata": {},
     "output_type": "display_data"
    },
    {
     "data": {
      "application/vnd.jupyter.widget-view+json": {
       "model_id": "45d3217a918e4cbd99aae35b1b7b62d0",
       "version_major": 2,
       "version_minor": 0
      },
      "text/plain": [
       "HBox(children=(Textarea(value='', description='Output:', layout=Layout(height='100px', width='90%')),))"
      ]
     },
     "metadata": {},
     "output_type": "display_data"
    },
    {
     "data": {
      "application/vnd.jupyter.widget-view+json": {
       "model_id": "239ffb91567d4149baf2d8941d405976",
       "version_major": 2,
       "version_minor": 0
      },
      "text/plain": [
       "Output()"
      ]
     },
     "metadata": {},
     "output_type": "display_data"
    }
   ],
   "source": [
    "from chords_gui import chords_gui \n",
    "\n",
    "chords = chords_gui()\n",
    "\n",
    "chords.start_end_widgets()\n"
   ]
  },
  {
   "cell_type": "code",
   "execution_count": 2,
   "id": "false-fossil",
   "metadata": {},
   "outputs": [
    {
     "name": "stdout",
     "output_type": "stream",
     "text": [
      "Available Data Files\n"
     ]
    },
    {
     "data": {
      "application/vnd.jupyter.widget-view+json": {
       "model_id": "38e54ac7384c4270aa091d0be70d283f",
       "version_major": 2,
       "version_minor": 0
      },
      "text/plain": [
       "HBox(children=(Select(layout=Layout(width='initial'), options=('tzvolcano_chordsrt_com_instrument_id_1_2020-02…"
      ]
     },
     "metadata": {},
     "output_type": "display_data"
    },
    {
     "data": {
      "application/vnd.jupyter.widget-view+json": {
       "model_id": "239ffb91567d4149baf2d8941d405976",
       "version_major": 2,
       "version_minor": 0
      },
      "text/plain": [
       "Output()"
      ]
     },
     "metadata": {},
     "output_type": "display_data"
    }
   ],
   "source": [
    "chords.select_data_file()"
   ]
  },
  {
   "cell_type": "code",
   "execution_count": 3,
   "id": "median-drain",
   "metadata": {},
   "outputs": [
    {
     "name": "stdout",
     "output_type": "stream",
     "text": [
      "tzvolcano_chordsrt_com_instrument_id_1_2020-02-01_to_2020-02-19.csv\n"
     ]
    }
   ],
   "source": [
    "print(chords.available_data_files.value)"
   ]
  },
  {
   "cell_type": "code",
   "execution_count": 4,
   "id": "progressive-survival",
   "metadata": {},
   "outputs": [
    {
     "name": "stdout",
     "output_type": "stream",
     "text": [
      "csv_files/tzvolcano_chordsrt_com_instrument_id_1_2020-02-01_to_2020-02-19.csv\n"
     ]
    }
   ],
   "source": [
    "file_name = chords.available_data_files.value\n",
    "\n",
    "data = chords.load_data_from_file(file_name)"
   ]
  },
  {
   "cell_type": "code",
   "execution_count": 5,
   "id": "ordered-terrorism",
   "metadata": {},
   "outputs": [
    {
     "data": {
      "text/plain": [
       "<pandas.plotting._core.PlotAccessor object at 0x1206915e0>"
      ]
     },
     "execution_count": 5,
     "metadata": {},
     "output_type": "execute_result"
    }
   ],
   "source": []
  },
  {
   "cell_type": "code",
   "execution_count": 6,
   "id": "muslim-flooring",
   "metadata": {},
   "outputs": [
    {
     "data": {
      "text/plain": [
       "Index(['Time', 'Latitude', 'Longitude', 'Height'], dtype='object')"
      ]
     },
     "execution_count": 6,
     "metadata": {},
     "output_type": "execute_result"
    }
   ],
   "source": []
  },
  {
   "cell_type": "code",
   "execution_count": null,
   "id": "settled-least",
   "metadata": {},
   "outputs": [],
   "source": []
  }
 ],
 "metadata": {
  "kernelspec": {
   "display_name": "Python 3",
   "language": "python",
   "name": "python3"
  },
  "language_info": {
   "codemirror_mode": {
    "name": "ipython",
    "version": 3
   },
   "file_extension": ".py",
   "mimetype": "text/x-python",
   "name": "python",
   "nbconvert_exporter": "python",
   "pygments_lexer": "ipython3",
   "version": "3.9.1"
  }
 },
 "nbformat": 4,
 "nbformat_minor": 5
}
