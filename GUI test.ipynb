{
 "cells": [
  {
   "cell_type": "code",
   "execution_count": 42,
   "id": "inner-competition",
   "metadata": {},
   "outputs": [],
   "source": [
    "# All imported libraries are listed herefor readbility\n",
    "\n",
    "import pandas as pd\n",
    "import matplotlib.pyplot as plt\n",
    "\n",
    "import numpy as np\n",
    "from zlib import crc32\n",
    "\n",
    "\n",
    "\n",
    "# Data pipeline, scaling, normalizing, etc\n",
    "from sklearn.pipeline import Pipeline\n",
    "from sklearn.preprocessing import StandardScaler\n",
    "from sklearn.impute import SimpleImputer\n",
    "\n",
    "# Transforming & Manipulating data\n",
    "from sklearn.compose import ColumnTransformer\n",
    "\n",
    "\n",
    "# The Linear Regression model\n",
    "from sklearn.linear_model import LinearRegression\n",
    "\n"
   ]
  },
  {
   "cell_type": "code",
   "execution_count": 1,
   "id": "russian-break",
   "metadata": {},
   "outputs": [],
   "source": [
    "# Jupyter widgets\n",
    "# https://dataviz.shef.ac.uk/blog/16/06/2020/Jupyter-Widgets\n",
    "\n",
    "from __future__ import print_function\n",
    "from ipywidgets import interact, interactive, fixed, interact_manual, Layout\n",
    "import ipywidgets as widgets\n",
    "import datetime"
   ]
  },
  {
   "cell_type": "code",
   "execution_count": 2,
   "id": "impressed-crisis",
   "metadata": {},
   "outputs": [
    {
     "data": {
      "application/vnd.jupyter.widget-view+json": {
       "model_id": "14c9fda9ea8746099b74bb75fb8af86e",
       "version_major": 2,
       "version_minor": 0
      },
      "text/plain": [
       "HBox(children=(DatePicker(value=None, description='Start Date'), DatePicker(value=None, description='End Date'…"
      ]
     },
     "metadata": {},
     "output_type": "display_data"
    }
   ],
   "source": [
    "\n",
    "\n",
    "start_date = widgets.DatePicker(\n",
    "    description='Start Date',\n",
    "    disabled=False\n",
    ")\n",
    "end_date = widgets.DatePicker(\n",
    "    description='End Date',\n",
    "    disabled=False\n",
    ")\n",
    "\n",
    "widgets.HBox([start_date, end_date])"
   ]
  },
  {
   "cell_type": "code",
   "execution_count": 5,
   "id": "communist-stable",
   "metadata": {},
   "outputs": [
    {
     "name": "stdout",
     "output_type": "stream",
     "text": [
      "['tzvolcano_chordsrt_com_instrument_id_1_2021-01-01_to_2021-01-01.csv']\n"
     ]
    }
   ],
   "source": [
    "local_data_dir = 'csv_files'\n",
    "from os import listdir\n",
    "from os.path import isfile, join\n",
    "files = [f for f in listdir(local_data_dir) if isfile(join(local_data_dir, f))]\n",
    "print(files)"
   ]
  },
  {
   "cell_type": "code",
   "execution_count": 32,
   "id": "affecting-semester",
   "metadata": {},
   "outputs": [],
   "source": [
    "\n",
    "available_data_files = widgets.Select(\n",
    "    options=files,\n",
    "#     value='OSX',\n",
    "    description='',\n",
    "    disabled=False,\n",
    "    layout={'width': 'initial'}\n",
    ")"
   ]
  },
  {
   "cell_type": "code",
   "execution_count": 33,
   "id": "working-desire",
   "metadata": {},
   "outputs": [
    {
     "name": "stdout",
     "output_type": "stream",
     "text": [
      "Available Data Files\n"
     ]
    },
    {
     "data": {
      "application/vnd.jupyter.widget-view+json": {
       "model_id": "0cb23a0843cf498a8a7dc3b33206c431",
       "version_major": 2,
       "version_minor": 0
      },
      "text/plain": [
       "HBox(children=(Select(layout=Layout(width='initial'), options=('tzvolcano_chordsrt_com_instrument_id_1_2021-01…"
      ]
     },
     "metadata": {},
     "output_type": "display_data"
    }
   ],
   "source": [
    "print(\"Available Data Files\")\n",
    "widgets.HBox([available_data_files])"
   ]
  },
  {
   "cell_type": "code",
   "execution_count": null,
   "id": "photographic-foster",
   "metadata": {},
   "outputs": [],
   "source": []
  }
 ],
 "metadata": {
  "kernelspec": {
   "display_name": "Python 3",
   "language": "python",
   "name": "python3"
  },
  "language_info": {
   "codemirror_mode": {
    "name": "ipython",
    "version": 3
   },
   "file_extension": ".py",
   "mimetype": "text/x-python",
   "name": "python",
   "nbconvert_exporter": "python",
   "pygments_lexer": "ipython3",
   "version": "3.9.1"
  }
 },
 "nbformat": 4,
 "nbformat_minor": 5
}
