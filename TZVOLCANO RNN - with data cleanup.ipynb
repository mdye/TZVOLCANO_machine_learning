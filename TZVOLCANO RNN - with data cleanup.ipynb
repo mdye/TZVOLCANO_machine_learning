{
 "cells": [
  {
   "cell_type": "code",
   "execution_count": 1,
   "id": "russian-teddy",
   "metadata": {},
   "outputs": [
    {
     "name": "stdout",
     "output_type": "stream",
     "text": [
      "INFO:tensorflow:Enabling eager execution\n",
      "INFO:tensorflow:Enabling v2 tensorshape\n",
      "INFO:tensorflow:Enabling resource variables\n",
      "INFO:tensorflow:Enabling tensor equality\n",
      "INFO:tensorflow:Enabling control flow v2\n",
      "No GPU was detected. LSTMs and CNNs can be very slow without a GPU.\n"
     ]
    }
   ],
   "source": [
    "from sklearn import preprocessing\n",
    "\n",
    "# Python ≥3.5 is required\n",
    "import sys\n",
    "assert sys.version_info >= (3, 5)\n",
    "\n",
    "# Scikit-Learn ≥0.20 is required\n",
    "import sklearn\n",
    "assert sklearn.__version__ >= \"0.20\"\n",
    "\n",
    "try:\n",
    "    # %tensorflow_version only exists in Colab.\n",
    "    %tensorflow_version 2.x\n",
    "    IS_COLAB = True\n",
    "except Exception:\n",
    "    IS_COLAB = False\n",
    "\n",
    "# TensorFlow ≥2.0 is required\n",
    "import tensorflow as tf\n",
    "from tensorflow import keras\n",
    "assert tf.__version__ >= \"2.0\"\n",
    "\n",
    "if not tf.config.list_physical_devices('GPU'):\n",
    "    print(\"No GPU was detected. LSTMs and CNNs can be very slow without a GPU.\")\n",
    "    if IS_COLAB:\n",
    "        print(\"Go to Runtime > Change runtime and select a GPU hardware accelerator.\")\n",
    "\n",
    "# Common imports\n",
    "import numpy as np\n",
    "import os\n",
    "from pathlib import Path\n",
    "\n",
    "# to make this notebook's output stable across runs\n",
    "np.random.seed(42)\n",
    "tf.random.set_seed(42)\n",
    "\n",
    "# To plot pretty figures\n",
    "%matplotlib inline\n",
    "import matplotlib as mpl\n",
    "import matplotlib.pyplot as plt\n",
    "mpl.rc('axes', labelsize=14)\n",
    "mpl.rc('xtick', labelsize=12)\n",
    "mpl.rc('ytick', labelsize=12)\n",
    "\n",
    "# Where to save the figures\n",
    "PROJECT_ROOT_DIR = \".\"\n",
    "CHAPTER_ID = \"rnn\"\n",
    "IMAGES_PATH = os.path.join(PROJECT_ROOT_DIR, \"images\", CHAPTER_ID)\n",
    "os.makedirs(IMAGES_PATH, exist_ok=True)\n",
    "\n",
    "# Early version of chords GUI interface\n",
    "from chords_gui import chords_gui "
   ]
  },
  {
   "cell_type": "code",
   "execution_count": 2,
   "id": "raising-router",
   "metadata": {},
   "outputs": [],
   "source": [
    "import pandas as pd\n",
    "\n",
    "# Data pipeline, scaling, normalizing, etc\n",
    "from sklearn.pipeline import Pipeline\n",
    "from sklearn.preprocessing import StandardScaler\n",
    "from sklearn.impute import SimpleImputer\n",
    "\n",
    "# Transforming & Manipulating data\n",
    "from sklearn.compose import ColumnTransformer\n",
    "\n",
    "\n",
    "# The Linear Regression model\n",
    "from sklearn.linear_model import LinearRegression"
   ]
  },
  {
   "cell_type": "code",
   "execution_count": 3,
   "id": "difficult-cooperative",
   "metadata": {},
   "outputs": [],
   "source": [
    "n_steps_training = 100000\n",
    "n_steps_forecast = 500"
   ]
  },
  {
   "cell_type": "code",
   "execution_count": 4,
   "id": "creative-security",
   "metadata": {},
   "outputs": [],
   "source": [
    "def save_fig(fig_id, tight_layout=True, fig_extension=\"png\", resolution=300):\n",
    "    path = os.path.join(IMAGES_PATH, fig_id + \".\" + fig_extension)\n",
    "    print(\"Saving figure\", fig_id)\n",
    "    if tight_layout:\n",
    "        plt.tight_layout()\n",
    "    plt.savefig(path, format=fig_extension, dpi=resolution)"
   ]
  },
  {
   "cell_type": "code",
   "execution_count": 5,
   "id": "endless-ticket",
   "metadata": {},
   "outputs": [],
   "source": [
    "def plot_series(series, n_steps, y=None, y_pred=None, x_label=\"$t$\", y_label=\"$x(t)$\"):\n",
    "    plt.plot(series, \".-\")\n",
    "    if y is not None:\n",
    "        plt.plot(n_steps, y, \"bx\", markersize=10)\n",
    "    if y_pred is not None:\n",
    "        plt.plot(n_steps, y_pred, \"ro\")\n",
    "    plt.grid(True)\n",
    "    if x_label:\n",
    "        plt.xlabel(x_label, fontsize=16)\n",
    "    if y_label:\n",
    "        plt.ylabel(y_label, fontsize=16, rotation=0)\n",
    "    plt.hlines(0, 0, 100, linewidth=1)\n",
    "    plt.axis([0, n_steps + 1, -1, 1])"
   ]
  },
  {
   "cell_type": "code",
   "execution_count": 6,
   "id": "rapid-listening",
   "metadata": {},
   "outputs": [],
   "source": [
    "def plot_multiple_forecasts(X, Y, Y_pred, n_steps):\n",
    "    n_steps = X.shape[1]\n",
    "    ahead = Y.shape[1]\n",
    "    plot_series(X[0, :, 0], n_steps)\n",
    "    plt.plot(np.arange(n_steps, n_steps + ahead), Y[0, :, 0], \"ro-\", label=\"Actual\")\n",
    "    plt.plot(np.arange(n_steps, n_steps + ahead), Y_pred[0, :, 0], \"bx-\", label=\"Forecast\", markersize=10)\n",
    "    plt.axis([0, n_steps + ahead, -1, 1])\n",
    "    plt.legend(fontsize=14)"
   ]
  },
  {
   "cell_type": "code",
   "execution_count": 7,
   "id": "royal-imagination",
   "metadata": {},
   "outputs": [
    {
     "data": {
      "application/vnd.jupyter.widget-view+json": {
       "model_id": "82a9d823005f4bdf9758ce2034ff8ad5",
       "version_major": 2,
       "version_minor": 0
      },
      "text/plain": [
       "HBox(children=(Select(description='Instrument ID: ', options=('1', '2', '4', '5', '6', '7', '8', '9'), value='…"
      ]
     },
     "metadata": {},
     "output_type": "display_data"
    },
    {
     "data": {
      "application/vnd.jupyter.widget-view+json": {
       "model_id": "22288135ba0b4fc9ab971acbb8888f4d",
       "version_major": 2,
       "version_minor": 0
      },
      "text/plain": [
       "HBox(children=(DatePicker(value=datetime.datetime(2021, 1, 1, 0, 0), description='Start Date'), DatePicker(val…"
      ]
     },
     "metadata": {},
     "output_type": "display_data"
    },
    {
     "data": {
      "application/vnd.jupyter.widget-view+json": {
       "model_id": "a119b2aa19e34b0f973cc4ea854a4ae4",
       "version_major": 2,
       "version_minor": 0
      },
      "text/plain": [
       "HBox(children=(Button(description='Download File', style=ButtonStyle()),))"
      ]
     },
     "metadata": {},
     "output_type": "display_data"
    },
    {
     "data": {
      "application/vnd.jupyter.widget-view+json": {
       "model_id": "5592e46c87a347d1b35b3d972fb3f4ec",
       "version_major": 2,
       "version_minor": 0
      },
      "text/plain": [
       "HBox(children=(Textarea(value='', description='Output:', layout=Layout(height='100px', width='90%')),))"
      ]
     },
     "metadata": {},
     "output_type": "display_data"
    },
    {
     "data": {
      "application/vnd.jupyter.widget-view+json": {
       "model_id": "5df2674a285a42b5bb751cba4b04a805",
       "version_major": 2,
       "version_minor": 0
      },
      "text/plain": [
       "Output()"
      ]
     },
     "metadata": {},
     "output_type": "display_data"
    }
   ],
   "source": [
    "\n",
    "# Render the data download widget\n",
    "domain = 'tzvolcano.chordsrt.com'\n",
    "chords = chords_gui(domain)\n",
    "\n",
    "# Define the initial start and end date for the date selector\n",
    "start_date_string = '2021-01-01'\n",
    "end_date_string = '2021-01-05'\n",
    "\n",
    "# Generate the uer interface\n",
    "chords.start_end_widgets(start_date_string, end_date_string)"
   ]
  },
  {
   "cell_type": "code",
   "execution_count": 8,
   "id": "sixth-football",
   "metadata": {},
   "outputs": [
    {
     "name": "stdout",
     "output_type": "stream",
     "text": [
      "Available Data Files\n"
     ]
    },
    {
     "data": {
      "application/vnd.jupyter.widget-view+json": {
       "model_id": "7ce64599e943412a995d128c614d10c5",
       "version_major": 2,
       "version_minor": 0
      },
      "text/plain": [
       "HBox(children=(Select(layout=Layout(width='initial'), options=('tzvolcano_chordsrt_com_instrument_id_1_2021-01…"
      ]
     },
     "metadata": {},
     "output_type": "display_data"
    },
    {
     "data": {
      "application/vnd.jupyter.widget-view+json": {
       "model_id": "5df2674a285a42b5bb751cba4b04a805",
       "version_major": 2,
       "version_minor": 0
      },
      "text/plain": [
       "Output()"
      ]
     },
     "metadata": {},
     "output_type": "display_data"
    }
   ],
   "source": [
    "chords.select_data_file()"
   ]
  },
  {
   "cell_type": "code",
   "execution_count": 9,
   "id": "double-treaty",
   "metadata": {},
   "outputs": [
    {
     "name": "stdout",
     "output_type": "stream",
     "text": [
      "tzvolcano_chordsrt_com_instrument_id_1_2021-01-01_to_2021-01-01.csv\n",
      "csv_files/tzvolcano_chordsrt_com_instrument_id_1_2021-01-01_to_2021-01-01.csv\n"
     ]
    }
   ],
   "source": [
    "# Get the selected file to use\n",
    "file_name = chords.available_data_files.value\n",
    "print(file_name)\n",
    "\n",
    "original_data = chords.load_data_from_file(file_name)"
   ]
  },
  {
   "cell_type": "code",
   "execution_count": 10,
   "id": "comparable-occasions",
   "metadata": {},
   "outputs": [
    {
     "name": "stdout",
     "output_type": "stream",
     "text": [
      "Index(['Height'], dtype='object')\n",
      "<class 'pandas.core.frame.DataFrame'>\n"
     ]
    }
   ],
   "source": [
    "# Remove the \"Time\" variable from the data set, as it is not useful for the model\n",
    "height_data = original_data.drop([\"Time\", \"Longitude\", \"Latitude\"], axis=1)\n",
    "\n",
    "# Print out the remaing variable names, just to see we did remove \"Time\"\n",
    "print(height_data.keys())\n",
    "print(type(height_data))"
   ]
  },
  {
   "cell_type": "code",
   "execution_count": 11,
   "id": "according-wedding",
   "metadata": {},
   "outputs": [],
   "source": [
    "\n",
    "\n",
    "height = height_data['Height'].to_numpy()\n",
    "\n",
    "# Rescale everything to the range between -1 and 1\n",
    "height = np.interp(height, (height.min(), height.max()), (-1, +1))\n",
    "height = height[:n_steps_training+1]\n",
    "\n",
    "# height_series = height[..., np.newaxis].astype(np.float32)\n",
    "height_series = np.array([height])\n",
    "height_series = height_series[..., np.newaxis].astype(np.float32)\n",
    "\n",
    "X_train = np.array(height_series[:,:-1])\n",
    "y_train = np.array(height_series[:,-1])\n"
   ]
  },
  {
   "cell_type": "code",
   "execution_count": 12,
   "id": "wireless-grammar",
   "metadata": {},
   "outputs": [
    {
     "data": {
      "image/png": "[encoded data removed]",
      "text/plain": [
       "<Figure size 432x288 with 1 Axes>"
      ]
     },
     "metadata": {
      "needs_background": "light"
     },
     "output_type": "display_data"
    }
   ],
   "source": [
    "plot_series(X_train[0, :, 0], n_steps_training)"
   ]
  },
  {
   "cell_type": "code",
   "execution_count": 13,
   "id": "removed-attention",
   "metadata": {},
   "outputs": [],
   "source": [
    "\n",
    "n_steps_ahead = 40"
   ]
  },
  {
   "cell_type": "code",
   "execution_count": 14,
   "id": "behavioral-picture",
   "metadata": {},
   "outputs": [],
   "source": [
    "def last_time_step_mse(Y_true, Y_pred):\n",
    "    return keras.metrics.mean_squared_error(Y_true[:, -1], Y_pred[:, -1])"
   ]
  },
  {
   "cell_type": "code",
   "execution_count": 15,
   "id": "hydraulic-adventure",
   "metadata": {},
   "outputs": [],
   "source": [
    "np.random.seed(42)\n",
    "tf.random.set_seed(42)\n",
    "\n",
    "model = keras.models.Sequential([\n",
    "    keras.layers.SimpleRNN(20, return_sequences=True, input_shape=[None, 1]),\n",
    "    keras.layers.BatchNormalization(),\n",
    "    keras.layers.SimpleRNN(20, return_sequences=True),\n",
    "    keras.layers.BatchNormalization(),\n",
    "    keras.layers.TimeDistributed(keras.layers.Dense(n_steps_ahead))\n",
    "])\n",
    "\n",
    "model.compile(loss=\"mse\", optimizer=\"adam\", metrics=[last_time_step_mse])"
   ]
  },
  {
   "cell_type": "code",
   "execution_count": null,
   "id": "figured-neighborhood",
   "metadata": {},
   "outputs": [
    {
     "name": "stdout",
     "output_type": "stream",
     "text": [
      "Epoch 1/20\n",
      "WARNING:tensorflow:AutoGraph could not transform <function last_time_step_mse at 0x161791820> and will run it as-is.\n",
      "Please report this to the TensorFlow team. When filing the bug, set the verbosity to 10 (on Linux, `export AUTOGRAPH_VERBOSITY=10`) and attach the full output.\n",
      "Cause: invalid syntax (tmpligdpor0.py, line 12)\n",
      "To silence this warning, decorate the function with @tf.autograph.experimental.do_not_convert\n",
      "WARNING: AutoGraph could not transform <function last_time_step_mse at 0x161791820> and will run it as-is.\n",
      "Please report this to the TensorFlow team. When filing the bug, set the verbosity to 10 (on Linux, `export AUTOGRAPH_VERBOSITY=10`) and attach the full output.\n",
      "Cause: invalid syntax (tmpligdpor0.py, line 12)\n",
      "To silence this warning, decorate the function with @tf.autograph.experimental.do_not_convert\n",
      "1/1 [==============================] - 215s 215s/step - loss: 0.7830 - last_time_step_mse: 0.7430\n",
      "Epoch 2/20\n",
      "1/1 [==============================] - 232s 232s/step - loss: 0.7312 - last_time_step_mse: 0.4361\n",
      "Epoch 3/20\n"
     ]
    }
   ],
   "source": [
    "history = model.fit(X_train, y_train, epochs=20,)"
   ]
  },
  {
   "cell_type": "code",
   "execution_count": null,
   "id": "cognitive-period",
   "metadata": {},
   "outputs": [],
   "source": [
    "\n",
    "\n",
    "height_forecast = height_data['Height'].to_numpy()\n",
    "height_forecast = np.interp(height_forecast, (height_forecast.min(), height_forecast.max()), (-1, +1))\n",
    "height_forecast = height_forecast[n_steps_training-n_steps_forecast:n_steps_training+n_steps_ahead]\n",
    "\n",
    "height_forecast_series = np.array([height_forecast])\n",
    "height_forecast_series = height_forecast_series[..., np.newaxis].astype(np.float32)\n",
    "\n",
    "X_new, Y_new = height_forecast_series[:, :n_steps_forecast], height_forecast_series[:, n_steps_forecast:]\n",
    "X = X_new\n",
    "\n"
   ]
  },
  {
   "cell_type": "code",
   "execution_count": null,
   "id": "civil-producer",
   "metadata": {},
   "outputs": [],
   "source": [
    "Y_pred = model.predict(X_new)[:, -1][..., np.newaxis]"
   ]
  },
  {
   "cell_type": "code",
   "execution_count": null,
   "id": "lasting-curve",
   "metadata": {},
   "outputs": [],
   "source": [
    "print(X_new.shape)\n",
    "print(Y_new.shape)\n",
    "print(Y_pred.shape)"
   ]
  },
  {
   "cell_type": "code",
   "execution_count": null,
   "id": "interesting-funeral",
   "metadata": {},
   "outputs": [],
   "source": [
    "plot_multiple_forecasts(X_new, Y_new, Y_pred, n_steps_forecast)\n",
    "save_fig(\"forecast_ahead_plot\")\n",
    "plt.show()\n",
    "\n",
    "# Plot the entire training set for comparison\n",
    "plot_series(X_train[0, :, 0], n_steps_training)"
   ]
  },
  {
   "cell_type": "code",
   "execution_count": null,
   "id": "heard-investing",
   "metadata": {},
   "outputs": [],
   "source": []
  },
  {
   "cell_type": "code",
   "execution_count": null,
   "id": "suburban-count",
   "metadata": {},
   "outputs": [],
   "source": [
    "# Use a gaussian mixture to remove data points that are statistical outliers"
   ]
  },
  {
   "cell_type": "code",
   "execution_count": null,
   "id": "elementary-flush",
   "metadata": {},
   "outputs": [],
   "source": [
    "# Calculate the seconds_since_epoch variable\n",
    "original_data[\"seconds_since_epoch\"] = original_data['Time'].astype(np.int64)\n",
    "\n",
    "# Show all the keys (variable names) in the loaded data set\n",
    "original_data.keys()"
   ]
  },
  {
   "cell_type": "code",
   "execution_count": null,
   "id": "lyric-vatican",
   "metadata": {},
   "outputs": [],
   "source": [
    "# Remove the \"Time\" variable from the data set, as it is not useful for the model\n",
    "height_data = original_data.drop([\"Time\", \"Longitude\", \"Latitude\"], axis=1)\n",
    "\n",
    "# Print out the remaing variable names, just to see we did remove \"Time\"\n",
    "print(height_data.keys())\n",
    "print(type(height_data))"
   ]
  },
  {
   "cell_type": "code",
   "execution_count": null,
   "id": "aggressive-theology",
   "metadata": {},
   "outputs": [],
   "source": [
    "# swap the order of the columns\n",
    "columns_titles = [\"seconds_since_epoch\",\"Height\"]\n",
    "height_data=height_data.reindex(columns=columns_titles)\n",
    "\n",
    "height_data.keys()"
   ]
  },
  {
   "cell_type": "code",
   "execution_count": null,
   "id": "narrow-fitting",
   "metadata": {},
   "outputs": [],
   "source": [
    "# Define a pipline to clean numerical data\n",
    "num_pipeline = Pipeline([\n",
    "    ('imputer', SimpleImputer(strategy=\"most_frequent\")),\n",
    "#     ('std_scaler', StandardScaler()),\n",
    "])\n",
    "\n",
    "# Test that the pipeline works\n",
    "height_data_imputed = num_pipeline.fit_transform(height_data)\n",
    "\n",
    "height_data_imputed"
   ]
  },
  {
   "cell_type": "code",
   "execution_count": null,
   "id": "charming-gardening",
   "metadata": {},
   "outputs": [],
   "source": [
    "height_data.plot(kind=\"scatter\", x=\"seconds_since_epoch\", y=\"Height\", alpha=0.1)"
   ]
  },
  {
   "cell_type": "code",
   "execution_count": null,
   "id": "frank-final",
   "metadata": {},
   "outputs": [],
   "source": [
    "def plot_clusters(X, y=None):\n",
    "    plt.scatter(X[:, 0], X[:, 1], c=y, s=1)\n",
    "    plt.xlabel(\"$x_1$\", fontsize=14)\n",
    "    plt.ylabel(\"$x_2$\", fontsize=14, rotation=0)\n",
    "    "
   ]
  },
  {
   "cell_type": "code",
   "execution_count": null,
   "id": "automotive-detroit",
   "metadata": {},
   "outputs": [],
   "source": [
    "plt.figure(figsize=(16, 10))\n",
    "plot_clusters(height_data_imputed)\n",
    "plt.show()"
   ]
  },
  {
   "cell_type": "code",
   "execution_count": null,
   "id": "transsexual-principal",
   "metadata": {},
   "outputs": [],
   "source": [
    "from sklearn.mixture import GaussianMixture"
   ]
  },
  {
   "cell_type": "code",
   "execution_count": null,
   "id": "communist-loading",
   "metadata": {},
   "outputs": [],
   "source": [
    "N_COMPONENTS = 1\n",
    "N_INIT = 10\n",
    "COVARIANCE_TYPE = \"tied\"\n",
    "\n",
    "gm = GaussianMixture(n_components=N_COMPONENTS, n_init=N_INIT,covariance_type=COVARIANCE_TYPE, random_state=42)\n",
    "gm.fit(height_data_imputed)"
   ]
  },
  {
   "cell_type": "code",
   "execution_count": null,
   "id": "derived-wiring",
   "metadata": {},
   "outputs": [],
   "source": [
    "gm.weights_"
   ]
  },
  {
   "cell_type": "code",
   "execution_count": null,
   "id": "chicken-pasta",
   "metadata": {},
   "outputs": [],
   "source": [
    "gm.means_"
   ]
  },
  {
   "cell_type": "code",
   "execution_count": null,
   "id": "german-boxing",
   "metadata": {},
   "outputs": [],
   "source": [
    "gm.means_"
   ]
  },
  {
   "cell_type": "code",
   "execution_count": null,
   "id": "frank-reform",
   "metadata": {},
   "outputs": [],
   "source": [
    "gm.covariances_\n"
   ]
  },
  {
   "cell_type": "code",
   "execution_count": null,
   "id": "found-ceramic",
   "metadata": {},
   "outputs": [],
   "source": [
    "gm.converged_"
   ]
  },
  {
   "cell_type": "code",
   "execution_count": null,
   "id": "directed-utilization",
   "metadata": {},
   "outputs": [],
   "source": [
    "gm.n_iter_"
   ]
  },
  {
   "cell_type": "code",
   "execution_count": null,
   "id": "centered-lemon",
   "metadata": {},
   "outputs": [],
   "source": [
    "gm.predict(height_data_imputed)"
   ]
  },
  {
   "cell_type": "code",
   "execution_count": null,
   "id": "military-generic",
   "metadata": {},
   "outputs": [],
   "source": [
    "gm.predict_proba(height_data_imputed)"
   ]
  },
  {
   "cell_type": "code",
   "execution_count": null,
   "id": "indian-water",
   "metadata": {},
   "outputs": [],
   "source": [
    "height_data_new, y_new = gm.sample(6)\n",
    "height_data_new"
   ]
  },
  {
   "cell_type": "code",
   "execution_count": null,
   "id": "rough-desire",
   "metadata": {},
   "outputs": [],
   "source": [
    "y_new"
   ]
  },
  {
   "cell_type": "code",
   "execution_count": null,
   "id": "identified-enclosure",
   "metadata": {},
   "outputs": [],
   "source": [
    "gm.score_samples(height_data_imputed)"
   ]
  },
  {
   "cell_type": "code",
   "execution_count": null,
   "id": "traditional-chamber",
   "metadata": {},
   "outputs": [],
   "source": [
    "resolution = 100\n",
    "grid = np.arange(-10, 10, 1 / resolution)\n",
    "xx, yy = np.meshgrid(grid, grid)\n",
    "X_full = np.vstack([xx.ravel(), yy.ravel()]).T\n",
    "\n",
    "pdf = np.exp(gm.score_samples(X_full))\n",
    "pdf_probas = pdf * (1 / resolution) ** 2\n",
    "pdf_probas.sum()"
   ]
  },
  {
   "cell_type": "code",
   "execution_count": null,
   "id": "successful-evans",
   "metadata": {},
   "outputs": [],
   "source": [
    "from matplotlib.colors import LogNorm\n",
    "\n",
    "\n",
    "\n",
    "def plot_centroids(centroids, weights=None, circle_color='w', cross_color='k'):\n",
    "    if weights is not None:\n",
    "        centroids = centroids[weights > weights.max() / 10]\n",
    "    plt.scatter(centroids[:, 0], centroids[:, 1],\n",
    "                marker='o', s=35, linewidths=8,\n",
    "                color=circle_color, zorder=10, alpha=0.9)\n",
    "    plt.scatter(centroids[:, 0], centroids[:, 1],\n",
    "                marker='x', s=2, linewidths=12,\n",
    "                color=cross_color, zorder=11, alpha=1)\n",
    "    \n",
    "def plot_gaussian_mixture(clusterer, X, resolution=1000, show_ylabels=True):\n",
    "    mins = X.min(axis=0) - 0.1\n",
    "    maxs = X.max(axis=0) + 0.1\n",
    "    xx, yy = np.meshgrid(np.linspace(mins[0], maxs[0], resolution),\n",
    "                         np.linspace(mins[1], maxs[1], resolution))\n",
    "    Z = -clusterer.score_samples(np.c_[xx.ravel(), yy.ravel()])\n",
    "    Z = Z.reshape(xx.shape)\n",
    "\n",
    "    plt.contourf(xx, yy, Z,\n",
    "                 norm=LogNorm(vmin=1.0, vmax=30.0),\n",
    "                 levels=np.logspace(0, 2, 12))\n",
    "    plt.contour(xx, yy, Z,\n",
    "                norm=LogNorm(vmin=1.0, vmax=30.0),\n",
    "                levels=np.logspace(0, 2, 12),\n",
    "                linewidths=1, colors='k')\n",
    "\n",
    "    Z = clusterer.predict(np.c_[xx.ravel(), yy.ravel()])\n",
    "    Z = Z.reshape(xx.shape)\n",
    "    plt.contour(xx, yy, Z,\n",
    "                linewidths=2, colors='r', linestyles='dashed')\n",
    "    \n",
    "    plt.plot(X[:, 0], X[:, 1], 'k.', markersize=2)\n",
    "    plot_centroids(clusterer.means_, clusterer.weights_)\n",
    "\n",
    "    plt.xlabel(\"$x_1$\", fontsize=14)\n",
    "    if show_ylabels:\n",
    "        plt.ylabel(\"$x_2$\", fontsize=14, rotation=0)\n",
    "    else:\n",
    "        plt.tick_params(labelleft=False)"
   ]
  },
  {
   "cell_type": "code",
   "execution_count": null,
   "id": "decreased-butler",
   "metadata": {},
   "outputs": [],
   "source": [
    "plt.figure(figsize=(16, 10))\n",
    "\n",
    "plot_gaussian_mixture(gm, height_data_imputed)\n",
    "plt.ylim(top=990, bottom=987)\n",
    "# save_fig(\"gaussian_mixtures_plot\")\n",
    "plt.show()"
   ]
  },
  {
   "cell_type": "code",
   "execution_count": null,
   "id": "applied-exhibition",
   "metadata": {},
   "outputs": [],
   "source": [
    "DENSITY_THRESHOLD_PERCENT = 5\n",
    "\n",
    "densities = gm.score_samples(height_data_imputed)\n",
    "\n",
    "density_threshold = np.percentile(densities, DENSITY_THRESHOLD_PERCENT)\n",
    "anomalies = height_data_imputed[densities < density_threshold]\n",
    "\n",
    "\n",
    "\n",
    "plt.figure(figsize=(16, 10))\n",
    "\n",
    "plot_gaussian_mixture(gm, height_data_imputed)\n",
    "plt.scatter(anomalies[:, 0], anomalies[:, 1], color='r', marker='*')\n",
    "plt.ylim(top=990, bottom=987)\n",
    "\n",
    "# save_fig(\"mixture_anomaly_detection_plot\")\n",
    "plt.show()"
   ]
  },
  {
   "cell_type": "code",
   "execution_count": null,
   "id": "defensive-examination",
   "metadata": {},
   "outputs": [],
   "source": [
    "cleaned_data = height_data_imputed[densities >= density_threshold]\n",
    "cleaned_pandas_data = pd.DataFrame(cleaned_data, columns = ['seconds_since_epoch','Height'])\n",
    "cleaned_pandas_data.plot(x=\"seconds_since_epoch\", y=\"Height\",figsize=(16, 10))"
   ]
  },
  {
   "cell_type": "code",
   "execution_count": null,
   "id": "olive-vermont",
   "metadata": {},
   "outputs": [],
   "source": [
    "\n",
    "\n",
    "\n",
    "# Need to make sure that the data sets are normalized at the same time"
   ]
  },
  {
   "cell_type": "code",
   "execution_count": null,
   "id": "deluxe-worcester",
   "metadata": {},
   "outputs": [],
   "source": [
    "cleaned_height = cleaned_pandas_data['Height'].to_numpy()\n",
    "\n",
    "# Rescale everything to the range between -1 and 1\n",
    "cleaned_height = np.interp(cleaned_height, (cleaned_height.min(), cleaned_height.max()), (-1, +1))\n",
    "cleaned_height = cleaned_height[:n_steps_training+1]\n",
    "\n",
    "# height_series = height[..., np.newaxis].astype(np.float32)\n",
    "cleaned_height_series = np.array([cleaned_height])\n",
    "cleaned_height_series = cleaned_height_series[..., np.newaxis].astype(np.float32)\n",
    "\n",
    "X_train = np.array(cleaned_height_series[:,:-1])\n",
    "y_train = np.array(cleaned_height_series[:,-1])"
   ]
  },
  {
   "cell_type": "code",
   "execution_count": null,
   "id": "focused-snapshot",
   "metadata": {},
   "outputs": [],
   "source": [
    "plot_series(X_train[0, :, 0], n_steps_training)"
   ]
  },
  {
   "cell_type": "code",
   "execution_count": null,
   "id": "incident-string",
   "metadata": {},
   "outputs": [],
   "source": [
    "np.random.seed(42)\n",
    "tf.random.set_seed(42)\n",
    "\n",
    "model = keras.models.Sequential([\n",
    "    keras.layers.SimpleRNN(20, return_sequences=True, input_shape=[None, 1]),\n",
    "    keras.layers.BatchNormalization(),\n",
    "    keras.layers.SimpleRNN(20, return_sequences=True),\n",
    "    keras.layers.BatchNormalization(),\n",
    "    keras.layers.TimeDistributed(keras.layers.Dense(n_steps_ahead))\n",
    "])\n",
    "\n",
    "model.compile(loss=\"mse\", optimizer=\"adam\", metrics=[last_time_step_mse])"
   ]
  },
  {
   "cell_type": "code",
   "execution_count": null,
   "id": "judicial-wells",
   "metadata": {},
   "outputs": [],
   "source": [
    "cleaned_history = model.fit(X_train, y_train, epochs=20,)"
   ]
  },
  {
   "cell_type": "code",
   "execution_count": null,
   "id": "grave-lesson",
   "metadata": {},
   "outputs": [],
   "source": [
    "cleaned_height_forecast = cleaned_pandas_data['Height'].to_numpy()\n",
    "cleaned_height_forecast = np.interp(cleaned_height_forecast, (cleaned_height_forecast.min(), cleaned_height_forecast.max()), (-1, +1))\n",
    "cleaned_height_forecast = cleaned_height_forecast[n_steps_training-n_steps_forecast:n_steps_training+n_steps_ahead]\n",
    "\n",
    "cleaned_height_forecast_series = np.array([cleaned_height_forecast])\n",
    "cleaned_height_forecast_series = cleaned_height_forecast_series[..., np.newaxis].astype(np.float32)\n",
    "\n",
    "X_new, Y_new = cleaned_height_forecast_series[:, :n_steps_forecast], cleaned_height_forecast_series[:, n_steps_forecast:]\n",
    "X = X_new\n",
    "\n"
   ]
  },
  {
   "cell_type": "code",
   "execution_count": null,
   "id": "liable-produce",
   "metadata": {},
   "outputs": [],
   "source": [
    "Y_pred = model.predict(X_new)[:, -1][..., np.newaxis]"
   ]
  },
  {
   "cell_type": "code",
   "execution_count": null,
   "id": "angry-popularity",
   "metadata": {},
   "outputs": [],
   "source": [
    "print(X_new.shape)\n",
    "print(Y_new.shape)\n",
    "print(Y_pred.shape)"
   ]
  },
  {
   "cell_type": "code",
   "execution_count": null,
   "id": "personalized-easter",
   "metadata": {},
   "outputs": [],
   "source": [
    "plot_multiple_forecasts(X_new, Y_new, Y_pred, n_steps_forecast)\n",
    "save_fig(\"forecast_ahead_plot\")\n",
    "plt.show()\n",
    "\n",
    "# Plot the entire training set for comparison\n",
    "plot_series(X_train[0, :, 0], n_steps_training)"
   ]
  },
  {
   "cell_type": "code",
   "execution_count": null,
   "id": "british-mission",
   "metadata": {},
   "outputs": [],
   "source": []
  }
 ],
 "metadata": {
  "kernelspec": {
   "display_name": "Python 3",
   "language": "python",
   "name": "python3"
  },
  "language_info": {
   "codemirror_mode": {
    "name": "ipython",
    "version": 3
   },
   "file_extension": ".py",
   "mimetype": "text/x-python",
   "name": "python",
   "nbconvert_exporter": "python",
   "pygments_lexer": "ipython3",
   "version": "3.9.1"
  }
 },
 "nbformat": 4,
 "nbformat_minor": 5
}
