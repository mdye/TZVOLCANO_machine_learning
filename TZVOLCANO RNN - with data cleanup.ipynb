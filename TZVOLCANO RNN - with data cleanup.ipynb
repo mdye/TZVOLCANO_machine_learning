{
 "cells": [
  {
   "cell_type": "code",
   "execution_count": 1,
   "id": "positive-snapshot",
   "metadata": {},
   "outputs": [
    {
     "name": "stdout",
     "output_type": "stream",
     "text": [
      "INFO:tensorflow:Enabling eager execution\n",
      "INFO:tensorflow:Enabling v2 tensorshape\n",
      "INFO:tensorflow:Enabling resource variables\n",
      "INFO:tensorflow:Enabling tensor equality\n",
      "INFO:tensorflow:Enabling control flow v2\n",
      "No GPU was detected. LSTMs and CNNs can be very slow without a GPU.\n"
     ]
    }
   ],
   "source": [
    "from sklearn import preprocessing\n",
    "\n",
    "# Python ≥3.5 is required\n",
    "import sys\n",
    "assert sys.version_info >= (3, 5)\n",
    "\n",
    "# Scikit-Learn ≥0.20 is required\n",
    "import sklearn\n",
    "assert sklearn.__version__ >= \"0.20\"\n",
    "\n",
    "try:\n",
    "    # %tensorflow_version only exists in Colab.\n",
    "    %tensorflow_version 2.x\n",
    "    IS_COLAB = True\n",
    "except Exception:\n",
    "    IS_COLAB = False\n",
    "\n",
    "# TensorFlow ≥2.0 is required\n",
    "import tensorflow as tf\n",
    "from tensorflow import keras\n",
    "assert tf.__version__ >= \"2.0\"\n",
    "\n",
    "if not tf.config.list_physical_devices('GPU'):\n",
    "    print(\"No GPU was detected. LSTMs and CNNs can be very slow without a GPU.\")\n",
    "    if IS_COLAB:\n",
    "        print(\"Go to Runtime > Change runtime and select a GPU hardware accelerator.\")\n",
    "\n",
    "# Common imports\n",
    "import numpy as np\n",
    "import os\n",
    "from pathlib import Path\n",
    "\n",
    "# to make this notebook's output stable across runs\n",
    "np.random.seed(42)\n",
    "tf.random.set_seed(42)\n",
    "\n",
    "# To plot pretty figures\n",
    "%matplotlib inline\n",
    "import matplotlib as mpl\n",
    "import matplotlib.pyplot as plt\n",
    "mpl.rc('axes', labelsize=14)\n",
    "mpl.rc('xtick', labelsize=12)\n",
    "mpl.rc('ytick', labelsize=12)\n",
    "\n",
    "# Where to save the figures\n",
    "PROJECT_ROOT_DIR = \".\"\n",
    "CHAPTER_ID = \"rnn\"\n",
    "IMAGES_PATH = os.path.join(PROJECT_ROOT_DIR, \"images\", CHAPTER_ID)\n",
    "os.makedirs(IMAGES_PATH, exist_ok=True)\n",
    "\n",
    "# Early version of chords GUI interface\n",
    "from chords_gui import chords_gui "
   ]
  },
  {
   "cell_type": "code",
   "execution_count": 2,
   "id": "apart-affect",
   "metadata": {},
   "outputs": [],
   "source": [
    "n_steps_training = 10000\n",
    "n_steps_forecast = 500"
   ]
  },
  {
   "cell_type": "code",
   "execution_count": 3,
   "id": "provincial-ranking",
   "metadata": {},
   "outputs": [],
   "source": [
    "def save_fig(fig_id, tight_layout=True, fig_extension=\"png\", resolution=300):\n",
    "    path = os.path.join(IMAGES_PATH, fig_id + \".\" + fig_extension)\n",
    "    print(\"Saving figure\", fig_id)\n",
    "    if tight_layout:\n",
    "        plt.tight_layout()\n",
    "    plt.savefig(path, format=fig_extension, dpi=resolution)"
   ]
  },
  {
   "cell_type": "code",
   "execution_count": 4,
   "id": "fewer-hometown",
   "metadata": {},
   "outputs": [],
   "source": [
    "def plot_series(series, n_steps, y=None, y_pred=None, x_label=\"$t$\", y_label=\"$x(t)$\"):\n",
    "    plt.plot(series, \".-\")\n",
    "    if y is not None:\n",
    "        plt.plot(n_steps, y, \"bx\", markersize=10)\n",
    "    if y_pred is not None:\n",
    "        plt.plot(n_steps, y_pred, \"ro\")\n",
    "    plt.grid(True)\n",
    "    if x_label:\n",
    "        plt.xlabel(x_label, fontsize=16)\n",
    "    if y_label:\n",
    "        plt.ylabel(y_label, fontsize=16, rotation=0)\n",
    "    plt.hlines(0, 0, 100, linewidth=1)\n",
    "    plt.axis([0, n_steps + 1, -1, 1])"
   ]
  },
  {
   "cell_type": "code",
   "execution_count": 5,
   "id": "governing-bloom",
   "metadata": {},
   "outputs": [],
   "source": [
    "def plot_multiple_forecasts(X, Y, Y_pred, n_steps):\n",
    "    n_steps = X.shape[1]\n",
    "    ahead = Y.shape[1]\n",
    "    plot_series(X[0, :, 0], n_steps)\n",
    "    plt.plot(np.arange(n_steps, n_steps + ahead), Y[0, :, 0], \"ro-\", label=\"Actual\")\n",
    "    plt.plot(np.arange(n_steps, n_steps + ahead), Y_pred[0, :, 0], \"bx-\", label=\"Forecast\", markersize=10)\n",
    "    plt.axis([0, n_steps + ahead, -1, 1])\n",
    "    plt.legend(fontsize=14)"
   ]
  },
  {
   "cell_type": "code",
   "execution_count": 6,
   "id": "sweet-childhood",
   "metadata": {},
   "outputs": [
    {
     "data": {
      "application/vnd.jupyter.widget-view+json": {
       "model_id": "818b22f9afee4329ba2e424212a5bb90",
       "version_major": 2,
       "version_minor": 0
      },
      "text/plain": [
       "HBox(children=(Select(description='Instrument ID: ', options=('1', '2', '4', '5', '6', '7', '8', '9'), value='…"
      ]
     },
     "metadata": {},
     "output_type": "display_data"
    },
    {
     "data": {
      "application/vnd.jupyter.widget-view+json": {
       "model_id": "019cdd2d339143789ed0c9c1397e1263",
       "version_major": 2,
       "version_minor": 0
      },
      "text/plain": [
       "HBox(children=(DatePicker(value=datetime.datetime(2021, 1, 1, 0, 0), description='Start Date'), DatePicker(val…"
      ]
     },
     "metadata": {},
     "output_type": "display_data"
    },
    {
     "data": {
      "application/vnd.jupyter.widget-view+json": {
       "model_id": "6022751752d044539fefaa61b4b22fd8",
       "version_major": 2,
       "version_minor": 0
      },
      "text/plain": [
       "HBox(children=(Button(description='Download File', style=ButtonStyle()),))"
      ]
     },
     "metadata": {},
     "output_type": "display_data"
    },
    {
     "data": {
      "application/vnd.jupyter.widget-view+json": {
       "model_id": "09a9558a92f7489baedd9c1100aa7f6c",
       "version_major": 2,
       "version_minor": 0
      },
      "text/plain": [
       "HBox(children=(Textarea(value='', description='Output:', layout=Layout(height='100px', width='90%')),))"
      ]
     },
     "metadata": {},
     "output_type": "display_data"
    },
    {
     "data": {
      "application/vnd.jupyter.widget-view+json": {
       "model_id": "78f8147d4e1846219cdb7284fe2341cc",
       "version_major": 2,
       "version_minor": 0
      },
      "text/plain": [
       "Output()"
      ]
     },
     "metadata": {},
     "output_type": "display_data"
    }
   ],
   "source": [
    "\n",
    "# Render the data download widget\n",
    "domain = 'tzvolcano.chordsrt.com'\n",
    "chords = chords_gui(domain)\n",
    "\n",
    "# Define the initial start and end date for the date selector\n",
    "start_date_string = '2021-01-01'\n",
    "end_date_string = '2021-01-05'\n",
    "\n",
    "# Generate the uer interface\n",
    "chords.start_end_widgets(start_date_string, end_date_string)"
   ]
  },
  {
   "cell_type": "code",
   "execution_count": 7,
   "id": "packed-syndication",
   "metadata": {},
   "outputs": [
    {
     "name": "stdout",
     "output_type": "stream",
     "text": [
      "Available Data Files\n"
     ]
    },
    {
     "data": {
      "application/vnd.jupyter.widget-view+json": {
       "model_id": "03a5c0250e7f407c988f1a982ba0386d",
       "version_major": 2,
       "version_minor": 0
      },
      "text/plain": [
       "HBox(children=(Select(layout=Layout(width='initial'), options=('tzvolcano_chordsrt_com_instrument_id_1_2021-01…"
      ]
     },
     "metadata": {},
     "output_type": "display_data"
    },
    {
     "data": {
      "application/vnd.jupyter.widget-view+json": {
       "model_id": "78f8147d4e1846219cdb7284fe2341cc",
       "version_major": 2,
       "version_minor": 0
      },
      "text/plain": [
       "Output()"
      ]
     },
     "metadata": {},
     "output_type": "display_data"
    }
   ],
   "source": [
    "chords.select_data_file()"
   ]
  },
  {
   "cell_type": "code",
   "execution_count": 8,
   "id": "agricultural-marketing",
   "metadata": {},
   "outputs": [
    {
     "name": "stdout",
     "output_type": "stream",
     "text": [
      "tzvolcano_chordsrt_com_instrument_id_1_2021-01-01_to_2021-01-01.csv\n",
      "csv_files/tzvolcano_chordsrt_com_instrument_id_1_2021-01-01_to_2021-01-01.csv\n"
     ]
    }
   ],
   "source": [
    "# Get the selected file to use\n",
    "file_name = chords.available_data_files.value\n",
    "print(file_name)\n",
    "\n",
    "original_data = chords.load_data_from_file(file_name)"
   ]
  },
  {
   "cell_type": "code",
   "execution_count": 9,
   "id": "labeled-toyota",
   "metadata": {},
   "outputs": [
    {
     "name": "stdout",
     "output_type": "stream",
     "text": [
      "Index(['Height'], dtype='object')\n",
      "<class 'pandas.core.frame.DataFrame'>\n"
     ]
    }
   ],
   "source": [
    "# Remove the \"Time\" variable from the data set, as it is not useful for the model\n",
    "height_data = original_data.drop([\"Time\", \"Longitude\", \"Latitude\"], axis=1)\n",
    "\n",
    "# Print out the remaing variable names, just to see we did remove \"Time\"\n",
    "print(height_data.keys())\n",
    "print(type(height_data))"
   ]
  },
  {
   "cell_type": "code",
   "execution_count": 10,
   "id": "eastern-cologne",
   "metadata": {},
   "outputs": [],
   "source": [
    "\n",
    "\n",
    "height = height_data['Height'].to_numpy()\n",
    "\n",
    "# Rescale everything to the range between -1 and 1\n",
    "height = np.interp(height, (height.min(), height.max()), (-1, +1))\n",
    "height = height[:n_steps_training+1]\n",
    "\n",
    "# height_series = height[..., np.newaxis].astype(np.float32)\n",
    "height_series = np.array([height])\n",
    "height_series = height_series[..., np.newaxis].astype(np.float32)\n",
    "\n",
    "X_train = np.array(height_series[:,:-1])\n",
    "y_train = np.array(height_series[:,-1])\n"
   ]
  },
  {
   "cell_type": "code",
   "execution_count": 11,
   "id": "industrial-trustee",
   "metadata": {},
   "outputs": [
    {
     "data": {
      "image/png": "[encoded data removed]",
      "text/plain": [
       "<Figure size 432x288 with 1 Axes>"
      ]
     },
     "metadata": {
      "needs_background": "light"
     },
     "output_type": "display_data"
    }
   ],
   "source": [
    "plot_series(X_train[0, :, 0], n_steps_training)"
   ]
  },
  {
   "cell_type": "code",
   "execution_count": 12,
   "id": "instant-fifty",
   "metadata": {},
   "outputs": [],
   "source": [
    "tf.random.set_seed(42)\n",
    "# number_of_neurons = 20 # original \n",
    "number_of_neurons = 20\n",
    "\n",
    "model = keras.models.Sequential([\n",
    "    keras.layers.SimpleRNN(number_of_neurons, return_sequences=True, input_shape=[None, 1]),\n",
    "    keras.layers.SimpleRNN(number_of_neurons),\n",
    "    keras.layers.Dense(1)\n",
    "])\n",
    "\n",
    "model.compile(loss=\"mse\", optimizer=\"adam\")\n",
    "\n"
   ]
  },
  {
   "cell_type": "code",
   "execution_count": 13,
   "id": "spare-huntington",
   "metadata": {},
   "outputs": [],
   "source": [
    "def last_time_step_mse(Y_true, Y_pred):\n",
    "    return keras.metrics.mean_squared_error(Y_true[:, -1], Y_pred[:, -1])"
   ]
  },
  {
   "cell_type": "code",
   "execution_count": 14,
   "id": "prescription-joining",
   "metadata": {},
   "outputs": [],
   "source": [
    "n_steps_ahead = 40"
   ]
  },
  {
   "cell_type": "code",
   "execution_count": 15,
   "id": "domestic-creature",
   "metadata": {},
   "outputs": [],
   "source": [
    "# WORKING QUITE WELL\n",
    "# model = keras.models.Sequential([\n",
    "#     keras.layers.SimpleRNN(20, return_sequences=True, input_shape=[None, 1]),\n",
    "#     keras.layers.SimpleRNN(20),\n",
    "#     keras.layers.Dense(n_steps_ahead)\n",
    "# ])\n",
    "# model.compile(loss=\"mse\", optimizer=\"adam\")"
   ]
  },
  {
   "cell_type": "code",
   "execution_count": 16,
   "id": "painful-pickup",
   "metadata": {},
   "outputs": [],
   "source": [
    "# model = keras.models.Sequential([\n",
    "#     keras.layers.SimpleRNN(20, return_sequences=True, input_shape=[None, 1]),\n",
    "#     keras.layers.SimpleRNN(20, return_sequences=True),\n",
    "#     keras.layers.TimeDistributed(keras.layers.Dense(n_steps_ahead))\n",
    "# ])\n",
    "\n",
    "# model.compile(loss=\"mse\", optimizer=keras.optimizers.Adam(learning_rate=0.01), metrics=[last_time_step_mse])"
   ]
  },
  {
   "cell_type": "code",
   "execution_count": 17,
   "id": "impaired-contrast",
   "metadata": {},
   "outputs": [],
   "source": [
    "np.random.seed(42)\n",
    "tf.random.set_seed(42)\n",
    "\n",
    "model = keras.models.Sequential([\n",
    "    keras.layers.SimpleRNN(20, return_sequences=True, input_shape=[None, 1]),\n",
    "    keras.layers.BatchNormalization(),\n",
    "    keras.layers.SimpleRNN(20, return_sequences=True),\n",
    "    keras.layers.BatchNormalization(),\n",
    "    keras.layers.TimeDistributed(keras.layers.Dense(n_steps_ahead))\n",
    "])\n",
    "\n",
    "model.compile(loss=\"mse\", optimizer=\"adam\", metrics=[last_time_step_mse])"
   ]
  },
  {
   "cell_type": "code",
   "execution_count": 18,
   "id": "experienced-mixer",
   "metadata": {},
   "outputs": [
    {
     "name": "stdout",
     "output_type": "stream",
     "text": [
      "Epoch 1/20\n",
      "WARNING:tensorflow:AutoGraph could not transform <function last_time_step_mse at 0x16e56ac10> and will run it as-is.\n",
      "Please report this to the TensorFlow team. When filing the bug, set the verbosity to 10 (on Linux, `export AUTOGRAPH_VERBOSITY=10`) and attach the full output.\n",
      "Cause: invalid syntax (tmp1bsb4nxz.py, line 12)\n",
      "To silence this warning, decorate the function with @tf.autograph.experimental.do_not_convert\n",
      "WARNING: AutoGraph could not transform <function last_time_step_mse at 0x16e56ac10> and will run it as-is.\n",
      "Please report this to the TensorFlow team. When filing the bug, set the verbosity to 10 (on Linux, `export AUTOGRAPH_VERBOSITY=10`) and attach the full output.\n",
      "Cause: invalid syntax (tmp1bsb4nxz.py, line 12)\n",
      "To silence this warning, decorate the function with @tf.autograph.experimental.do_not_convert\n",
      "1/1 [==============================] - 8s 8s/step - loss: 0.6988 - last_time_step_mse: 0.2980\n",
      "Epoch 2/20\n",
      "1/1 [==============================] - 7s 7s/step - loss: 0.6520 - last_time_step_mse: 0.2828\n",
      "Epoch 3/20\n",
      "1/1 [==============================] - 7s 7s/step - loss: 0.6151 - last_time_step_mse: 0.2702\n",
      "Epoch 4/20\n",
      "1/1 [==============================] - 7s 7s/step - loss: 0.5839 - last_time_step_mse: 0.2565\n",
      "Epoch 5/20\n",
      "1/1 [==============================] - 7s 7s/step - loss: 0.5535 - last_time_step_mse: 0.2428\n",
      "Epoch 6/20\n",
      "1/1 [==============================] - 7s 7s/step - loss: 0.5278 - last_time_step_mse: 0.2330\n",
      "Epoch 7/20\n",
      "1/1 [==============================] - 7s 7s/step - loss: 0.5044 - last_time_step_mse: 0.2241\n",
      "Epoch 8/20\n",
      "1/1 [==============================] - 7s 7s/step - loss: 0.4824 - last_time_step_mse: 0.2157\n",
      "Epoch 9/20\n",
      "1/1 [==============================] - 7s 7s/step - loss: 0.4596 - last_time_step_mse: 0.2106\n",
      "Epoch 10/20\n",
      "1/1 [==============================] - 7s 7s/step - loss: 0.4394 - last_time_step_mse: 0.2044\n",
      "Epoch 11/20\n",
      "1/1 [==============================] - 7s 7s/step - loss: 0.4201 - last_time_step_mse: 0.1982\n",
      "Epoch 12/20\n",
      "1/1 [==============================] - 7s 7s/step - loss: 0.4017 - last_time_step_mse: 0.1920\n",
      "Epoch 13/20\n",
      "1/1 [==============================] - 7s 7s/step - loss: 0.3845 - last_time_step_mse: 0.1859\n",
      "Epoch 14/20\n",
      "1/1 [==============================] - 7s 7s/step - loss: 0.3686 - last_time_step_mse: 0.1801\n",
      "Epoch 15/20\n",
      "1/1 [==============================] - 7s 7s/step - loss: 0.3534 - last_time_step_mse: 0.1745\n",
      "Epoch 16/20\n",
      "1/1 [==============================] - 7s 7s/step - loss: 0.3389 - last_time_step_mse: 0.1693\n",
      "Epoch 17/20\n",
      "1/1 [==============================] - 7s 7s/step - loss: 0.3251 - last_time_step_mse: 0.1643\n",
      "Epoch 18/20\n",
      "1/1 [==============================] - 7s 7s/step - loss: 0.3118 - last_time_step_mse: 0.1597\n",
      "Epoch 19/20\n",
      "1/1 [==============================] - 7s 7s/step - loss: 0.2991 - last_time_step_mse: 0.1552\n",
      "Epoch 20/20\n",
      "1/1 [==============================] - 7s 7s/step - loss: 0.2872 - last_time_step_mse: 0.1509\n"
     ]
    }
   ],
   "source": [
    "history = model.fit(X_train, y_train, epochs=20,)"
   ]
  },
  {
   "cell_type": "code",
   "execution_count": 19,
   "id": "demonstrated-jaguar",
   "metadata": {},
   "outputs": [],
   "source": [
    "\n",
    "\n",
    "height_forecast = height_data['Height'].to_numpy()\n",
    "height_forecast = np.interp(height_forecast, (height_forecast.min(), height_forecast.max()), (-1, +1))\n",
    "height_forecast = height_forecast[n_steps_training-n_steps_forecast:n_steps_training+n_steps_ahead]\n",
    "\n",
    "height_forecast_series = np.array([height_forecast])\n",
    "height_forecast_series = height_forecast_series[..., np.newaxis].astype(np.float32)\n",
    "\n",
    "X_new, Y_new = height_forecast_series[:, :n_steps_forecast], height_forecast_series[:, n_steps_forecast:]\n",
    "X = X_new\n",
    "\n"
   ]
  },
  {
   "cell_type": "code",
   "execution_count": 20,
   "id": "oriental-conjunction",
   "metadata": {},
   "outputs": [],
   "source": [
    "Y_pred = model.predict(X_new)[..., np.newaxis]\n",
    "\n",
    "Y_pred = model.predict(X_new)[:, -1][..., np.newaxis]"
   ]
  },
  {
   "cell_type": "code",
   "execution_count": 21,
   "id": "innocent-season",
   "metadata": {},
   "outputs": [],
   "source": [
    "# for step_ahead in range(n_steps_ahead):\n",
    "#     y_pred_one = model.predict(X[:, step_ahead:])[:, np.newaxis, :]\n",
    "#     X = np.concatenate([X, y_pred_one], axis=1)\n",
    "\n",
    "# Y_pred = X[:, n_steps_forecast:]\n",
    "\n"
   ]
  },
  {
   "cell_type": "code",
   "execution_count": 22,
   "id": "engaged-joyce",
   "metadata": {},
   "outputs": [
    {
     "name": "stdout",
     "output_type": "stream",
     "text": [
      "(1, 500, 1)\n",
      "(1, 40, 1)\n",
      "(1, 40, 1)\n"
     ]
    }
   ],
   "source": [
    "print(X_new.shape)\n",
    "print(Y_new.shape)\n",
    "print(Y_pred.shape)"
   ]
  },
  {
   "cell_type": "code",
   "execution_count": 23,
   "id": "mighty-ontario",
   "metadata": {},
   "outputs": [
    {
     "name": "stdout",
     "output_type": "stream",
     "text": [
      "Saving figure forecast_ahead_plot\n"
     ]
    },
    {
     "data": {
      "image/png": "[encoded data removed]",
      "text/plain": [
       "<Figure size 432x288 with 1 Axes>"
      ]
     },
     "metadata": {
      "needs_background": "light"
     },
     "output_type": "display_data"
    },
    {
     "data": {
      "image/png": "[encoded data removed]",
      "text/plain": [
       "<Figure size 432x288 with 1 Axes>"
      ]
     },
     "metadata": {
      "needs_background": "light"
     },
     "output_type": "display_data"
    }
   ],
   "source": [
    "plot_multiple_forecasts(X_new, Y_new, Y_pred, n_steps_forecast)\n",
    "save_fig(\"forecast_ahead_plot\")\n",
    "plt.show()\n",
    "\n",
    "# Plot the entire training set for comparison\n",
    "plot_series(X_train[0, :, 0], n_steps_training)"
   ]
  },
  {
   "cell_type": "code",
   "execution_count": null,
   "id": "mysterious-questionnaire",
   "metadata": {},
   "outputs": [],
   "source": []
  }
 ],
 "metadata": {
  "kernelspec": {
   "display_name": "Python 3",
   "language": "python",
   "name": "python3"
  },
  "language_info": {
   "codemirror_mode": {
    "name": "ipython",
    "version": 3
   },
   "file_extension": ".py",
   "mimetype": "text/x-python",
   "name": "python",
   "nbconvert_exporter": "python",
   "pygments_lexer": "ipython3",
   "version": "3.9.1"
  }
 },
 "nbformat": 4,
 "nbformat_minor": 5
}
