{
 "cells": [
  {
   "cell_type": "code",
   "execution_count": 1,
   "id": "premier-combat",
   "metadata": {},
   "outputs": [
    {
     "name": "stdout",
     "output_type": "stream",
     "text": [
      "INFO:tensorflow:Enabling eager execution\n",
      "INFO:tensorflow:Enabling v2 tensorshape\n",
      "INFO:tensorflow:Enabling resource variables\n",
      "INFO:tensorflow:Enabling tensor equality\n",
      "INFO:tensorflow:Enabling control flow v2\n",
      "No GPU was detected. LSTMs and CNNs can be very slow without a GPU.\n"
     ]
    }
   ],
   "source": [
    "from sklearn import preprocessing\n",
    "\n",
    "# Python ≥3.5 is required\n",
    "import sys\n",
    "assert sys.version_info >= (3, 5)\n",
    "\n",
    "# Scikit-Learn ≥0.20 is required\n",
    "import sklearn\n",
    "assert sklearn.__version__ >= \"0.20\"\n",
    "\n",
    "try:\n",
    "    # %tensorflow_version only exists in Colab.\n",
    "    %tensorflow_version 2.x\n",
    "    IS_COLAB = True\n",
    "except Exception:\n",
    "    IS_COLAB = False\n",
    "\n",
    "# TensorFlow ≥2.0 is required\n",
    "import tensorflow as tf\n",
    "from tensorflow import keras\n",
    "assert tf.__version__ >= \"2.0\"\n",
    "\n",
    "if not tf.config.list_physical_devices('GPU'):\n",
    "    print(\"No GPU was detected. LSTMs and CNNs can be very slow without a GPU.\")\n",
    "    if IS_COLAB:\n",
    "        print(\"Go to Runtime > Change runtime and select a GPU hardware accelerator.\")\n",
    "\n",
    "# Common imports\n",
    "import numpy as np\n",
    "import os\n",
    "from pathlib import Path\n",
    "\n",
    "# to make this notebook's output stable across runs\n",
    "np.random.seed(42)\n",
    "tf.random.set_seed(42)\n",
    "\n",
    "# To plot pretty figures\n",
    "%matplotlib inline\n",
    "import matplotlib as mpl\n",
    "import matplotlib.pyplot as plt\n",
    "mpl.rc('axes', labelsize=14)\n",
    "mpl.rc('xtick', labelsize=12)\n",
    "mpl.rc('ytick', labelsize=12)\n",
    "\n",
    "# Where to save the figures\n",
    "PROJECT_ROOT_DIR = \".\"\n",
    "CHAPTER_ID = \"rnn\"\n",
    "IMAGES_PATH = os.path.join(PROJECT_ROOT_DIR, \"images\", CHAPTER_ID)\n",
    "os.makedirs(IMAGES_PATH, exist_ok=True)\n",
    "\n",
    "# Early version of chords GUI interface\n",
    "from chords_gui import chords_gui "
   ]
  },
  {
   "cell_type": "code",
   "execution_count": 2,
   "id": "victorian-elevation",
   "metadata": {},
   "outputs": [],
   "source": [
    "n_steps_training = 5000\n",
    "n_steps_forecast = 200"
   ]
  },
  {
   "cell_type": "code",
   "execution_count": 3,
   "id": "angry-stick",
   "metadata": {},
   "outputs": [],
   "source": [
    "def save_fig(fig_id, tight_layout=True, fig_extension=\"png\", resolution=300):\n",
    "    path = os.path.join(IMAGES_PATH, fig_id + \".\" + fig_extension)\n",
    "    print(\"Saving figure\", fig_id)\n",
    "    if tight_layout:\n",
    "        plt.tight_layout()\n",
    "    plt.savefig(path, format=fig_extension, dpi=resolution)"
   ]
  },
  {
   "cell_type": "code",
   "execution_count": 4,
   "id": "preceding-stadium",
   "metadata": {},
   "outputs": [],
   "source": [
    "def plot_series(series, n_steps, y=None, y_pred=None, x_label=\"$t$\", y_label=\"$x(t)$\"):\n",
    "    plt.plot(series, \".-\")\n",
    "    if y is not None:\n",
    "        plt.plot(n_steps, y, \"bx\", markersize=10)\n",
    "    if y_pred is not None:\n",
    "        plt.plot(n_steps, y_pred, \"ro\")\n",
    "    plt.grid(True)\n",
    "    if x_label:\n",
    "        plt.xlabel(x_label, fontsize=16)\n",
    "    if y_label:\n",
    "        plt.ylabel(y_label, fontsize=16, rotation=0)\n",
    "    plt.hlines(0, 0, 100, linewidth=1)\n",
    "    plt.axis([0, n_steps + 1, -1, 1])"
   ]
  },
  {
   "cell_type": "code",
   "execution_count": 5,
   "id": "cross-arrow",
   "metadata": {},
   "outputs": [],
   "source": [
    "def plot_multiple_forecasts(X, Y, Y_pred, n_steps):\n",
    "    n_steps = X.shape[1]\n",
    "    ahead = Y.shape[1]\n",
    "    plot_series(X[0, :, 0], n_steps)\n",
    "    plt.plot(np.arange(n_steps, n_steps + ahead), Y[0, :, 0], \"ro-\", label=\"Actual\")\n",
    "    plt.plot(np.arange(n_steps, n_steps + ahead), Y_pred[0, :, 0], \"bx-\", label=\"Forecast\", markersize=10)\n",
    "    plt.axis([0, n_steps + ahead, -1, 1])\n",
    "    plt.legend(fontsize=14)"
   ]
  },
  {
   "cell_type": "code",
   "execution_count": 6,
   "id": "certified-alliance",
   "metadata": {},
   "outputs": [
    {
     "data": {
      "application/vnd.jupyter.widget-view+json": {
       "model_id": "3a8f1c7263b843e7920292f08c92c02c",
       "version_major": 2,
       "version_minor": 0
      },
      "text/plain": [
       "HBox(children=(Select(description='Instrument ID: ', options=('1', '2', '4', '5', '6', '7', '8', '9'), value='…"
      ]
     },
     "metadata": {},
     "output_type": "display_data"
    },
    {
     "data": {
      "application/vnd.jupyter.widget-view+json": {
       "model_id": "d8f48a53a1bc42d49a52bf0bb4dd3cf4",
       "version_major": 2,
       "version_minor": 0
      },
      "text/plain": [
       "HBox(children=(DatePicker(value=datetime.datetime(2021, 1, 1, 0, 0), description='Start Date'), DatePicker(val…"
      ]
     },
     "metadata": {},
     "output_type": "display_data"
    },
    {
     "data": {
      "application/vnd.jupyter.widget-view+json": {
       "model_id": "ad194d7b2fac46488d12e00e64525cef",
       "version_major": 2,
       "version_minor": 0
      },
      "text/plain": [
       "HBox(children=(Button(description='Download File', style=ButtonStyle()),))"
      ]
     },
     "metadata": {},
     "output_type": "display_data"
    },
    {
     "data": {
      "application/vnd.jupyter.widget-view+json": {
       "model_id": "7b6f7f319475421196b9f98ca4d0c428",
       "version_major": 2,
       "version_minor": 0
      },
      "text/plain": [
       "HBox(children=(Textarea(value='', description='Output:', layout=Layout(height='100px', width='90%')),))"
      ]
     },
     "metadata": {},
     "output_type": "display_data"
    },
    {
     "data": {
      "application/vnd.jupyter.widget-view+json": {
       "model_id": "0c047147e5634b4b982d47ada1422d45",
       "version_major": 2,
       "version_minor": 0
      },
      "text/plain": [
       "Output()"
      ]
     },
     "metadata": {},
     "output_type": "display_data"
    }
   ],
   "source": [
    "\n",
    "# Render the data download widget\n",
    "domain = 'tzvolcano.chordsrt.com'\n",
    "chords = chords_gui(domain)\n",
    "\n",
    "# Define the initial start and end date for the date selector\n",
    "start_date_string = '2021-01-01'\n",
    "end_date_string = '2021-01-05'\n",
    "\n",
    "# Generate the uer interface\n",
    "chords.start_end_widgets(start_date_string, end_date_string)"
   ]
  },
  {
   "cell_type": "code",
   "execution_count": 7,
   "id": "bearing-continent",
   "metadata": {},
   "outputs": [
    {
     "name": "stdout",
     "output_type": "stream",
     "text": [
      "Available Data Files\n"
     ]
    },
    {
     "data": {
      "application/vnd.jupyter.widget-view+json": {
       "model_id": "550cceb87513494682467e4409c750ff",
       "version_major": 2,
       "version_minor": 0
      },
      "text/plain": [
       "HBox(children=(Select(layout=Layout(width='initial'), options=('tzvolcano_chordsrt_com_instrument_id_1_2021-01…"
      ]
     },
     "metadata": {},
     "output_type": "display_data"
    },
    {
     "data": {
      "application/vnd.jupyter.widget-view+json": {
       "model_id": "0c047147e5634b4b982d47ada1422d45",
       "version_major": 2,
       "version_minor": 0
      },
      "text/plain": [
       "Output()"
      ]
     },
     "metadata": {},
     "output_type": "display_data"
    }
   ],
   "source": [
    "chords.select_data_file()"
   ]
  },
  {
   "cell_type": "code",
   "execution_count": 8,
   "id": "standard-giant",
   "metadata": {},
   "outputs": [
    {
     "name": "stdout",
     "output_type": "stream",
     "text": [
      "tzvolcano_chordsrt_com_instrument_id_1_2021-01-01_to_2021-01-01.csv\n",
      "csv_files/tzvolcano_chordsrt_com_instrument_id_1_2021-01-01_to_2021-01-01.csv\n"
     ]
    }
   ],
   "source": [
    "# Get the selected file to use\n",
    "file_name = chords.available_data_files.value\n",
    "print(file_name)\n",
    "\n",
    "original_data = chords.load_data_from_file(file_name)"
   ]
  },
  {
   "cell_type": "code",
   "execution_count": 9,
   "id": "molecular-transmission",
   "metadata": {},
   "outputs": [
    {
     "name": "stdout",
     "output_type": "stream",
     "text": [
      "Index(['Height'], dtype='object')\n",
      "<class 'pandas.core.frame.DataFrame'>\n"
     ]
    }
   ],
   "source": [
    "# Remove the \"Time\" variable from the data set, as it is not useful for the model\n",
    "height_data = original_data.drop([\"Time\", \"Longitude\", \"Latitude\"], axis=1)\n",
    "\n",
    "# Print out the remaing variable names, just to see we did remove \"Time\"\n",
    "print(height_data.keys())\n",
    "print(type(height_data))"
   ]
  },
  {
   "cell_type": "code",
   "execution_count": 10,
   "id": "living-stable",
   "metadata": {},
   "outputs": [],
   "source": [
    "\n",
    "\n",
    "height = height_data['Height'].to_numpy()\n",
    "\n",
    "# Rescale everything to the range between -1 and 1\n",
    "height = np.interp(height, (height.min(), height.max()), (-1, +1))\n",
    "height = height[:n_steps_training+1]\n",
    "\n",
    "# height_series = height[..., np.newaxis].astype(np.float32)\n",
    "height_series = np.array([height])\n",
    "height_series = height_series[..., np.newaxis].astype(np.float32)\n",
    "\n",
    "X_train = np.array(height_series[:,:-1])\n",
    "y_train = np.array(height_series[:,-1])\n"
   ]
  },
  {
   "cell_type": "code",
   "execution_count": 11,
   "id": "educational-entry",
   "metadata": {},
   "outputs": [
    {
     "data": {
      "image/png": "[encoded data removed]",
      "text/plain": [
       "<Figure size 432x288 with 1 Axes>"
      ]
     },
     "metadata": {
      "needs_background": "light"
     },
     "output_type": "display_data"
    }
   ],
   "source": [
    "plot_series(X_train[0, :, 0], n_steps_training)"
   ]
  },
  {
   "cell_type": "code",
   "execution_count": 12,
   "id": "small-invite",
   "metadata": {},
   "outputs": [
    {
     "name": "stdout",
     "output_type": "stream",
     "text": [
      "Epoch 1/20\n",
      "1/1 [==============================] - 3s 3s/step - loss: 0.7470\n",
      "Epoch 2/20\n",
      "1/1 [==============================] - 2s 2s/step - loss: 0.4774\n",
      "Epoch 3/20\n",
      "1/1 [==============================] - 2s 2s/step - loss: 0.2409\n",
      "Epoch 4/20\n",
      "1/1 [==============================] - 2s 2s/step - loss: 0.0440\n",
      "Epoch 5/20\n",
      "1/1 [==============================] - 2s 2s/step - loss: 0.0480\n",
      "Epoch 6/20\n",
      "1/1 [==============================] - 2s 2s/step - loss: 0.1149\n",
      "Epoch 7/20\n",
      "1/1 [==============================] - 2s 2s/step - loss: 0.1304\n",
      "Epoch 8/20\n",
      "1/1 [==============================] - 2s 2s/step - loss: 0.1122\n",
      "Epoch 9/20\n",
      "1/1 [==============================] - 2s 2s/step - loss: 0.0745\n",
      "Epoch 10/20\n",
      "1/1 [==============================] - 2s 2s/step - loss: 0.0340\n",
      "Epoch 11/20\n",
      "1/1 [==============================] - 2s 2s/step - loss: 0.0083\n",
      "Epoch 12/20\n",
      "1/1 [==============================] - 2s 2s/step - loss: 2.0962e-04\n",
      "Epoch 13/20\n",
      "1/1 [==============================] - 2s 2s/step - loss: 0.0016\n",
      "Epoch 14/20\n",
      "1/1 [==============================] - 2s 2s/step - loss: 0.0060\n",
      "Epoch 15/20\n",
      "1/1 [==============================] - 2s 2s/step - loss: 0.0104\n",
      "Epoch 16/20\n",
      "1/1 [==============================] - 2s 2s/step - loss: 0.0135\n",
      "Epoch 17/20\n",
      "1/1 [==============================] - 2s 2s/step - loss: 0.0150\n",
      "Epoch 18/20\n",
      "1/1 [==============================] - 2s 2s/step - loss: 0.0150\n",
      "Epoch 19/20\n",
      "1/1 [==============================] - 2s 2s/step - loss: 0.0137\n",
      "Epoch 20/20\n",
      "1/1 [==============================] - 2s 2s/step - loss: 0.0116\n"
     ]
    }
   ],
   "source": [
    "tf.random.set_seed(42)\n",
    "\n",
    "model = keras.models.Sequential([\n",
    "    keras.layers.SimpleRNN(20, return_sequences=True, input_shape=[None, 1]),\n",
    "    keras.layers.SimpleRNN(20),\n",
    "    keras.layers.Dense(1)\n",
    "])\n",
    "\n",
    "model.compile(loss=\"mse\", optimizer=\"adam\")\n",
    "\n",
    "history = model.fit(X_train, y_train, epochs=20,)"
   ]
  },
  {
   "cell_type": "code",
   "execution_count": 13,
   "id": "ultimate-effort",
   "metadata": {},
   "outputs": [],
   "source": [
    "# height = height_data['Height'].to_numpy()\n",
    "# height = np.interp(height, (height.min(), height.max()), (-1, +1))\n",
    "# height = height[:n_steps_forecast+10]\n",
    "# height.shape"
   ]
  },
  {
   "cell_type": "code",
   "execution_count": 14,
   "id": "interior-racing",
   "metadata": {},
   "outputs": [],
   "source": [
    "n_steps_ahead = 50\n",
    "\n",
    "height_forecast = height_data['Height'].to_numpy()\n",
    "height_forecast = np.interp(height_forecast, (height_forecast.min(), height_forecast.max()), (-1, +1))\n",
    "height_forecast = height_forecast[n_steps_training-n_steps_forecast:n_steps_training+n_steps_ahead]\n",
    "\n",
    "height_forecast_series = np.array([height_forecast])\n",
    "height_forecast_series = height_forecast_series[..., np.newaxis].astype(np.float32)\n",
    "\n",
    "X_new, Y_new = height_forecast_series[:, :n_steps_forecast], height_forecast_series[:, n_steps_forecast:]\n",
    "X = X_new"
   ]
  },
  {
   "cell_type": "code",
   "execution_count": 15,
   "id": "adapted-operations",
   "metadata": {},
   "outputs": [
    {
     "data": {
      "text/plain": [
       "(1, 50, 1)"
      ]
     },
     "execution_count": 15,
     "metadata": {},
     "output_type": "execute_result"
    }
   ],
   "source": [
    "for step_ahead in range(n_steps_ahead):\n",
    "    y_pred_one = model.predict(X[:, step_ahead:])[:, np.newaxis, :]\n",
    "    X = np.concatenate([X, y_pred_one], axis=1)\n",
    "\n",
    "Y_pred = X[:, n_steps_forecast:]\n",
    "\n",
    "Y_pred.shape"
   ]
  },
  {
   "cell_type": "code",
   "execution_count": 16,
   "id": "sonic-aerospace",
   "metadata": {},
   "outputs": [
    {
     "name": "stdout",
     "output_type": "stream",
     "text": [
      "(1, 200, 1)\n",
      "(1, 50, 1)\n",
      "(1, 50, 1)\n"
     ]
    }
   ],
   "source": [
    "print(X_new.shape)\n",
    "print(Y_new.shape)\n",
    "print(Y_pred.shape)"
   ]
  },
  {
   "cell_type": "code",
   "execution_count": 17,
   "id": "ready-northwest",
   "metadata": {},
   "outputs": [
    {
     "name": "stdout",
     "output_type": "stream",
     "text": [
      "Saving figure forecast_ahead_plot\n"
     ]
    },
    {
     "data": {
      "image/png": "[encoded data removed]",
      "text/plain": [
       "<Figure size 432x288 with 1 Axes>"
      ]
     },
     "metadata": {
      "needs_background": "light"
     },
     "output_type": "display_data"
    },
    {
     "data": {
      "image/png": "[encoded data removed]",
      "text/plain": [
       "<Figure size 432x288 with 1 Axes>"
      ]
     },
     "metadata": {
      "needs_background": "light"
     },
     "output_type": "display_data"
    }
   ],
   "source": [
    "plot_multiple_forecasts(X_new, Y_new, Y_pred, n_steps_forecast)\n",
    "save_fig(\"forecast_ahead_plot\")\n",
    "plt.show()\n",
    "\n",
    "# Plot the entire training set for comparison\n",
    "plot_series(X_train[0, :, 0], n_steps_training)"
   ]
  },
  {
   "cell_type": "code",
   "execution_count": null,
   "id": "destroyed-bouquet",
   "metadata": {},
   "outputs": [],
   "source": []
  }
 ],
 "metadata": {
  "kernelspec": {
   "display_name": "Python 3",
   "language": "python",
   "name": "python3"
  },
  "language_info": {
   "codemirror_mode": {
    "name": "ipython",
    "version": 3
   },
   "file_extension": ".py",
   "mimetype": "text/x-python",
   "name": "python",
   "nbconvert_exporter": "python",
   "pygments_lexer": "ipython3",
   "version": "3.9.1"
  }
 },
 "nbformat": 4,
 "nbformat_minor": 5
}
