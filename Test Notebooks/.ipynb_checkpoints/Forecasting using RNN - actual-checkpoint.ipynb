{
 "cells": [
  {
   "cell_type": "code",
   "execution_count": 1,
   "id": "italic-honey",
   "metadata": {},
   "outputs": [
    {
     "name": "stdout",
     "output_type": "stream",
     "text": [
      "INFO:tensorflow:Enabling eager execution\n",
      "INFO:tensorflow:Enabling v2 tensorshape\n",
      "INFO:tensorflow:Enabling resource variables\n",
      "INFO:tensorflow:Enabling tensor equality\n",
      "INFO:tensorflow:Enabling control flow v2\n",
      "No GPU was detected. LSTMs and CNNs can be very slow without a GPU.\n"
     ]
    }
   ],
   "source": []
  },
  {
   "cell_type": "code",
   "execution_count": null,
   "id": "foster-croatia",
   "metadata": {},
   "outputs": [],
   "source": [
    "# Make the libraries directory serachable for Python\n",
    "import sys\n",
    "sys.path.insert(1, './libraries')"
   ]
  },
  {
   "cell_type": "code",
   "execution_count": null,
   "id": "continental-temple",
   "metadata": {},
   "outputs": [],
   "source": [
    "from sklearn import preprocessing\n",
    "\n",
    "# Python ≥3.5 is required\n",
    "import sys\n",
    "assert sys.version_info >= (3, 5)\n",
    "\n",
    "# Scikit-Learn ≥0.20 is required\n",
    "import sklearn\n",
    "assert sklearn.__version__ >= \"0.20\"\n",
    "\n",
    "try:\n",
    "    # %tensorflow_version only exists in Colab.\n",
    "    %tensorflow_version 2.x\n",
    "    IS_COLAB = True\n",
    "except Exception:\n",
    "    IS_COLAB = False\n",
    "\n",
    "# TensorFlow ≥2.0 is required\n",
    "import tensorflow as tf\n",
    "from tensorflow import keras\n",
    "assert tf.__version__ >= \"2.0\"\n",
    "\n",
    "if not tf.config.list_physical_devices('GPU'):\n",
    "    print(\"No GPU was detected. LSTMs and CNNs can be very slow without a GPU.\")\n",
    "    if IS_COLAB:\n",
    "        print(\"Go to Runtime > Change runtime and select a GPU hardware accelerator.\")\n",
    "\n",
    "# Common imports\n",
    "import numpy as np\n",
    "import os\n",
    "from pathlib import Path\n",
    "\n",
    "# to make this notebook's output stable across runs\n",
    "np.random.seed(42)\n",
    "tf.random.set_seed(42)\n",
    "\n",
    "# To plot pretty figures\n",
    "%matplotlib inline\n",
    "import matplotlib as mpl\n",
    "import matplotlib.pyplot as plt\n",
    "mpl.rc('axes', labelsize=14)\n",
    "mpl.rc('xtick', labelsize=12)\n",
    "mpl.rc('ytick', labelsize=12)\n",
    "\n",
    "# Where to save the figures\n",
    "PROJECT_ROOT_DIR = \".\"\n",
    "CHAPTER_ID = \"rnn\"\n",
    "IMAGES_PATH = os.path.join(PROJECT_ROOT_DIR, \"images\", CHAPTER_ID)\n",
    "os.makedirs(IMAGES_PATH, exist_ok=True)\n",
    "\n",
    "def save_fig(fig_id, tight_layout=True, fig_extension=\"png\", resolution=300):\n",
    "    path = os.path.join(IMAGES_PATH, fig_id + \".\" + fig_extension)\n",
    "    print(\"Saving figure\", fig_id)\n",
    "    if tight_layout:\n",
    "        plt.tight_layout()\n",
    "    plt.savefig(path, format=fig_extension, dpi=resolution)"
   ]
  },
  {
   "cell_type": "code",
   "execution_count": 2,
   "id": "completed-scale",
   "metadata": {},
   "outputs": [],
   "source": [
    "def generate_time_series(batch_size, n_steps):\n",
    "    freq1, freq2, offsets1, offsets2 = np.random.rand(4, batch_size, 1)\n",
    "    time = np.linspace(0, 1, n_steps)\n",
    "    series = 0.5 * np.sin((time - offsets1) * (freq1 * 10 + 10))  #   wave 1\n",
    "    series += 0.2 * np.sin((time - offsets2) * (freq2 * 20 + 20)) # + wave 2\n",
    "    series += 0.1 * (np.random.rand(batch_size, n_steps) - 0.5)   # + noise\n",
    "\n",
    "    final_series = series[..., np.newaxis].astype(np.float32)\n",
    "    final_series = final_series.astype(np.float32)\n",
    "    return final_series"
   ]
  },
  {
   "cell_type": "code",
   "execution_count": 3,
   "id": "absent-greek",
   "metadata": {},
   "outputs": [],
   "source": [
    "# np.random.seed(42)\n",
    "\n",
    "# n_steps = 50\n",
    "# series = generate_time_series(10000, n_steps + 1)\n",
    "# X_train, y_train = series[:7000, :n_steps], series[:7000, -1]\n",
    "# X_valid, y_valid = series[7000:9000, :n_steps], series[7000:9000, -1]\n",
    "# X_test, y_test = series[9000:, :n_steps], series[9000:, -1]"
   ]
  },
  {
   "cell_type": "code",
   "execution_count": 4,
   "id": "careful-stopping",
   "metadata": {},
   "outputs": [],
   "source": [
    "# https://www.geeksforgeeks.org/numpy-ndarray/\n",
    "\n",
    "# print(\"Array is of type: (series): \", type(series))\n",
    "# print(\"No. of dimensions: (series): \", series.ndim)\n",
    "# print(\"Shape of array: (series): \", series.shape)\n",
    "# print(\"Size of array: (series): \", series.size)\n",
    "# print(\"Array stores elements of type: (series): \", series.dtype)\n"
   ]
  },
  {
   "cell_type": "code",
   "execution_count": 5,
   "id": "final-costume",
   "metadata": {},
   "outputs": [],
   "source": [
    "def plot_series(series, y=None, y_pred=None, x_label=\"$t$\", y_label=\"$x(t)$\"):\n",
    "    plt.plot(series, \".-\")\n",
    "    if y is not None:\n",
    "        plt.plot(n_steps, y, \"bx\", markersize=10)\n",
    "    if y_pred is not None:\n",
    "        plt.plot(n_steps, y_pred, \"ro\")\n",
    "    plt.grid(True)\n",
    "    if x_label:\n",
    "        plt.xlabel(x_label, fontsize=16)\n",
    "    if y_label:\n",
    "        plt.ylabel(y_label, fontsize=16, rotation=0)\n",
    "    plt.hlines(0, 0, 100, linewidth=1)\n",
    "    plt.axis([0, n_steps + 1, -1, 1])"
   ]
  },
  {
   "cell_type": "code",
   "execution_count": 6,
   "id": "informational-cookie",
   "metadata": {},
   "outputs": [
    {
     "data": {
      "application/vnd.jupyter.widget-view+json": {
       "model_id": "206e475cdb594b4f86fbe5b13f971c4d",
       "version_major": 2,
       "version_minor": 0
      },
      "text/plain": [
       "HBox(children=(Select(description='Instrument ID: ', options=('1', '2', '4', '5', '6', '7', '8', '9'), value='…"
      ]
     },
     "metadata": {},
     "output_type": "display_data"
    },
    {
     "data": {
      "application/vnd.jupyter.widget-view+json": {
       "model_id": "851a7782423c47e8aa49f022aee075ec",
       "version_major": 2,
       "version_minor": 0
      },
      "text/plain": [
       "HBox(children=(DatePicker(value=datetime.datetime(2021, 1, 1, 0, 0), description='Start Date'), DatePicker(val…"
      ]
     },
     "metadata": {},
     "output_type": "display_data"
    },
    {
     "data": {
      "application/vnd.jupyter.widget-view+json": {
       "model_id": "80a54a5a80344b73bfd36e917ad3422b",
       "version_major": 2,
       "version_minor": 0
      },
      "text/plain": [
       "HBox(children=(Button(description='Download File', style=ButtonStyle()),))"
      ]
     },
     "metadata": {},
     "output_type": "display_data"
    },
    {
     "data": {
      "application/vnd.jupyter.widget-view+json": {
       "model_id": "0590cf640fec4efcaf91a55174679c17",
       "version_major": 2,
       "version_minor": 0
      },
      "text/plain": [
       "HBox(children=(Textarea(value='', description='Output:', layout=Layout(height='100px', width='90%')),))"
      ]
     },
     "metadata": {},
     "output_type": "display_data"
    },
    {
     "data": {
      "application/vnd.jupyter.widget-view+json": {
       "model_id": "39598c25e20f4036a20f69304e22c3df",
       "version_major": 2,
       "version_minor": 0
      },
      "text/plain": [
       "Output()"
      ]
     },
     "metadata": {},
     "output_type": "display_data"
    }
   ],
   "source": [
    "# Early version of chords GUI interface\n",
    "from chords_gui import chords_gui \n",
    "\n",
    "# Render the data download widget\n",
    "domain = 'tzvolcano.chordsrt.com'\n",
    "chords = chords_gui(domain)\n",
    "\n",
    "# Define the initial start and end date for the date selector\n",
    "start_date_string = '2021-01-01'\n",
    "end_date_string = '2021-01-05'\n",
    "\n",
    "# Generate the uer interface\n",
    "chords.start_end_widgets(start_date_string, end_date_string)"
   ]
  },
  {
   "cell_type": "code",
   "execution_count": 7,
   "id": "annoying-shipping",
   "metadata": {},
   "outputs": [
    {
     "name": "stdout",
     "output_type": "stream",
     "text": [
      "Available Data Files\n"
     ]
    },
    {
     "data": {
      "application/vnd.jupyter.widget-view+json": {
       "model_id": "b4ff4e52ae144adc9ce549d12b4dbd1e",
       "version_major": 2,
       "version_minor": 0
      },
      "text/plain": [
       "HBox(children=(Select(layout=Layout(width='initial'), options=('tzvolcano_chordsrt_com_instrument_id_1_2021-01…"
      ]
     },
     "metadata": {},
     "output_type": "display_data"
    },
    {
     "data": {
      "application/vnd.jupyter.widget-view+json": {
       "model_id": "39598c25e20f4036a20f69304e22c3df",
       "version_major": 2,
       "version_minor": 0
      },
      "text/plain": [
       "Output()"
      ]
     },
     "metadata": {},
     "output_type": "display_data"
    }
   ],
   "source": [
    "chords.select_data_file()"
   ]
  },
  {
   "cell_type": "code",
   "execution_count": 8,
   "id": "charged-offset",
   "metadata": {},
   "outputs": [
    {
     "name": "stdout",
     "output_type": "stream",
     "text": [
      "tzvolcano_chordsrt_com_instrument_id_1_2021-01-01_to_2021-01-01.csv\n",
      "csv_files/tzvolcano_chordsrt_com_instrument_id_1_2021-01-01_to_2021-01-01.csv\n"
     ]
    }
   ],
   "source": [
    "# Get the selected file to use\n",
    "file_name = chords.available_data_files.value\n",
    "print(file_name)\n",
    "\n",
    "original_data = chords.load_data_from_file(file_name)"
   ]
  },
  {
   "cell_type": "code",
   "execution_count": 9,
   "id": "rubber-purple",
   "metadata": {},
   "outputs": [],
   "source": [
    "# Calculate the seconds_since_epoch variable\n",
    "# original_data[\"seconds_since_epoch\"] = original_data['Time'].astype(np.int64)\n",
    "\n",
    "# Show all the keys (variable names) in the loaded data set\n",
    "# original_data.keys()"
   ]
  },
  {
   "cell_type": "code",
   "execution_count": 10,
   "id": "acceptable-think",
   "metadata": {},
   "outputs": [
    {
     "name": "stdout",
     "output_type": "stream",
     "text": [
      "Index(['Height'], dtype='object')\n",
      "<class 'pandas.core.frame.DataFrame'>\n"
     ]
    }
   ],
   "source": [
    "# Remove the \"Time\" variable from the data set, as it is not useful for the model\n",
    "height_data = original_data.drop([\"Time\", \"Longitude\", \"Latitude\"], axis=1)\n",
    "\n",
    "# Print out the remaing variable names, just to see we did remove \"Time\"\n",
    "print(height_data.keys())\n",
    "print(type(height_data))"
   ]
  },
  {
   "cell_type": "code",
   "execution_count": 11,
   "id": "treated-garage",
   "metadata": {},
   "outputs": [],
   "source": [
    "# def generate_time_series(batch_size, n_steps):\n",
    "#     freq1, freq2, offsets1, offsets2 = np.random.rand(4, batch_size, 1)\n",
    "#     time = np.linspace(0, 1, n_steps)\n",
    "#     series = 0.5 * np.sin((time - offsets1) * (freq1 * 10 + 10))  #   wave 1\n",
    "#     series += 0.2 * np.sin((time - offsets2) * (freq2 * 20 + 20)) # + wave 2\n",
    "#     series += 0.1 * (np.random.rand(batch_size, n_steps) - 0.5)   # + noise\n",
    "#     return series[..., np.newaxis].astype(np.float32)"
   ]
  },
  {
   "cell_type": "code",
   "execution_count": 12,
   "id": "responsible-martial",
   "metadata": {},
   "outputs": [
    {
     "name": "stdout",
     "output_type": "stream",
     "text": [
      "Array is of type: (height_series):  <class 'numpy.ndarray'>\n",
      "No. of dimensions: (height_series):  3\n",
      "Shape of array: (height_series):  (1, 5001, 1)\n",
      "Size of array: (height_series):  5001\n",
      "Array stores elements of type: (height_series):  float32\n",
      "\n",
      "Array is of type: (X_train):  <class 'numpy.ndarray'>\n",
      "No. of dimensions: (X_train):  3\n",
      "Shape of array: (X_train):  (1, 5000, 1)\n",
      "Size of array: (X_train):  5000\n",
      "Array stores elements of type: (X_train):  float32\n",
      "\n",
      "Array is of type: (y_train):  <class 'numpy.ndarray'>\n",
      "No. of dimensions: (y_train):  2\n",
      "Shape of array: (y_train):  (1, 1)\n",
      "Size of array: (y_train):  1\n",
      "Array stores elements of type: (y_train):  float32\n",
      "\n"
     ]
    }
   ],
   "source": [
    "n_steps = 5000\n",
    "\n",
    "height = height_data['Height'].to_numpy()\n",
    "\n",
    "# Rescale everything to the range between -1 and 1\n",
    "height = np.interp(height, (height.min(), height.max()), (-1, +1))\n",
    "height = height[:n_steps+1]\n",
    "\n",
    "# height_series = height[..., np.newaxis].astype(np.float32)\n",
    "height_series = np.array([height])\n",
    "height_series = height_series[..., np.newaxis].astype(np.float32)\n",
    "\n",
    "X_train = np.array(height_series[:,:-1])\n",
    "y_train = np.array(height_series[:,-1])\n",
    "# print(type(height))\n",
    "# print(y_train)\n",
    "\n",
    "\n",
    "print(\"Array is of type: (height_series): \", type(height_series))\n",
    "print(\"No. of dimensions: (height_series): \", height_series.ndim)\n",
    "print(\"Shape of array: (height_series): \", height_series.shape)\n",
    "print(\"Size of array: (height_series): \", height_series.size)\n",
    "print(\"Array stores elements of type: (height_series): \", height_series.dtype)\n",
    "print(\"\")\n",
    "print(\"Array is of type: (X_train): \", type(X_train))\n",
    "print(\"No. of dimensions: (X_train): \", X_train.ndim)\n",
    "print(\"Shape of array: (X_train): \", X_train.shape)\n",
    "print(\"Size of array: (X_train): \", X_train.size)\n",
    "print(\"Array stores elements of type: (X_train): \", X_train.dtype)\n",
    "print(\"\")\n",
    "print(\"Array is of type: (y_train): \", type(y_train))\n",
    "print(\"No. of dimensions: (y_train): \", y_train.ndim)\n",
    "print(\"Shape of array: (y_train): \", y_train.shape)\n",
    "print(\"Size of array: (y_train): \", y_train.size)\n",
    "print(\"Array stores elements of type: (y_train): \", y_train.dtype)\n",
    "print(\"\")"
   ]
  },
  {
   "cell_type": "code",
   "execution_count": 13,
   "id": "smart-software",
   "metadata": {},
   "outputs": [
    {
     "data": {
      "image/png": "[encoded data removed]",
      "text/plain": [
       "<Figure size 432x288 with 1 Axes>"
      ]
     },
     "metadata": {
      "needs_background": "light"
     },
     "output_type": "display_data"
    }
   ],
   "source": [
    "# print(X_train)\n",
    "plot_series(X_train[0, :, 0])"
   ]
  },
  {
   "cell_type": "code",
   "execution_count": 14,
   "id": "collective-swaziland",
   "metadata": {},
   "outputs": [
    {
     "name": "stdout",
     "output_type": "stream",
     "text": [
      "Epoch 1/20\n",
      "1/1 [==============================] - 3s 3s/step - loss: 0.7470\n",
      "Epoch 2/20\n",
      "1/1 [==============================] - 2s 2s/step - loss: 0.4774\n",
      "Epoch 3/20\n",
      "1/1 [==============================] - 2s 2s/step - loss: 0.2409\n",
      "Epoch 4/20\n",
      "1/1 [==============================] - 2s 2s/step - loss: 0.0440\n",
      "Epoch 5/20\n",
      "1/1 [==============================] - 2s 2s/step - loss: 0.0480\n",
      "Epoch 6/20\n",
      "1/1 [==============================] - 2s 2s/step - loss: 0.1149\n",
      "Epoch 7/20\n",
      "1/1 [==============================] - 2s 2s/step - loss: 0.1304\n",
      "Epoch 8/20\n",
      "1/1 [==============================] - 2s 2s/step - loss: 0.1122\n",
      "Epoch 9/20\n",
      "1/1 [==============================] - 2s 2s/step - loss: 0.0745\n",
      "Epoch 10/20\n",
      "1/1 [==============================] - 2s 2s/step - loss: 0.0340\n",
      "Epoch 11/20\n",
      "1/1 [==============================] - 2s 2s/step - loss: 0.0083\n",
      "Epoch 12/20\n",
      "1/1 [==============================] - 2s 2s/step - loss: 2.0962e-04\n",
      "Epoch 13/20\n",
      "1/1 [==============================] - 2s 2s/step - loss: 0.0016\n",
      "Epoch 14/20\n",
      "1/1 [==============================] - 2s 2s/step - loss: 0.0060\n",
      "Epoch 15/20\n",
      "1/1 [==============================] - 2s 2s/step - loss: 0.0104\n",
      "Epoch 16/20\n",
      "1/1 [==============================] - 2s 2s/step - loss: 0.0135\n",
      "Epoch 17/20\n",
      "1/1 [==============================] - 2s 2s/step - loss: 0.0150\n",
      "Epoch 18/20\n",
      "1/1 [==============================] - 2s 2s/step - loss: 0.0150\n",
      "Epoch 19/20\n",
      "1/1 [==============================] - 2s 2s/step - loss: 0.0137\n",
      "Epoch 20/20\n",
      "1/1 [==============================] - 2s 2s/step - loss: 0.0116\n"
     ]
    }
   ],
   "source": [
    "tf.random.set_seed(42)\n",
    "\n",
    "model = keras.models.Sequential([\n",
    "    keras.layers.SimpleRNN(20, return_sequences=True, input_shape=[None, 1]),\n",
    "    keras.layers.SimpleRNN(20),\n",
    "    keras.layers.Dense(1)\n",
    "])\n",
    "\n",
    "model.compile(loss=\"mse\", optimizer=\"adam\")\n",
    "\n",
    "# history = model.fit(X_train, y_train, epochs=20,\n",
    "#                     validation_data=(X_valid, y_valid))\n",
    "\n",
    "history = model.fit(X_train, y_train, epochs=20,)"
   ]
  },
  {
   "cell_type": "code",
   "execution_count": 15,
   "id": "aggressive-enlargement",
   "metadata": {},
   "outputs": [],
   "source": [
    "# np.random.seed(43) # not 42, as it would give the first series in the train set\n",
    "\n",
    "# series = generate_time_series(1, n_steps + 10)\n",
    "# X_new, Y_new = series[:, :n_steps], series[:, n_steps:]\n",
    "# X = X_new\n",
    "# for step_ahead in range(10):\n",
    "#     y_pred_one = model.predict(X[:, step_ahead:])[:, np.newaxis, :]\n",
    "#     X = np.concatenate([X, y_pred_one], axis=1)\n",
    "\n",
    "# Y_pred = X[:, n_steps:]"
   ]
  },
  {
   "cell_type": "code",
   "execution_count": 16,
   "id": "otherwise-baseball",
   "metadata": {},
   "outputs": [],
   "source": [
    "n_steps = 500\n",
    "\n",
    "height = height_data['Height'].to_numpy()\n",
    "height = np.interp(height, (height.min(), height.max()), (-1, +1))\n",
    "height = height[:n_steps+10]\n",
    "\n",
    "# height_series = height[..., np.newaxis].astype(np.float32)\n",
    "height_series = np.array([height])\n",
    "height_series = height_series[..., np.newaxis].astype(np.float32)\n",
    "\n",
    "# series = generate_time_series(1, n_steps + 10)\n",
    "\n",
    "X_new = height_series[:, :n_steps]\n",
    "Y_new = height_series[:, n_steps:]\n",
    "\n",
    "X = X_new\n",
    "for step_ahead in range(10):\n",
    "    y_pred_one = model.predict(X[:, step_ahead:])[:, np.newaxis, :]\n",
    "#     print(y_pred_one)\n",
    "    X = np.concatenate([X, y_pred_one], axis=1)\n",
    "\n",
    "Y_pred = X[:, n_steps:]"
   ]
  },
  {
   "cell_type": "code",
   "execution_count": 17,
   "id": "noticed-bonus",
   "metadata": {},
   "outputs": [
    {
     "name": "stdout",
     "output_type": "stream",
     "text": [
      "(1, 500, 1)\n",
      "(1, 10, 1)\n",
      "(1, 10, 1)\n"
     ]
    }
   ],
   "source": [
    "print(X_new.shape)\n",
    "print(Y_new.shape)\n",
    "print(Y_pred.shape)"
   ]
  },
  {
   "cell_type": "code",
   "execution_count": 18,
   "id": "light-gabriel",
   "metadata": {},
   "outputs": [
    {
     "name": "stdout",
     "output_type": "stream",
     "text": [
      "Saving figure forecast_ahead_plot\n"
     ]
    },
    {
     "data": {
      "image/png": "[encoded data removed]",
      "text/plain": [
       "<Figure size 432x288 with 1 Axes>"
      ]
     },
     "metadata": {
      "needs_background": "light"
     },
     "output_type": "display_data"
    }
   ],
   "source": [
    "def plot_multiple_forecasts(X, Y, Y_pred):\n",
    "    n_steps = X.shape[1]\n",
    "    ahead = Y.shape[1]\n",
    "    plot_series(X[0, :, 0])\n",
    "    plt.plot(np.arange(n_steps, n_steps + ahead), Y[0, :, 0], \"ro-\", label=\"Actual\")\n",
    "    plt.plot(np.arange(n_steps, n_steps + ahead), Y_pred[0, :, 0], \"bx-\", label=\"Forecast\", markersize=10)\n",
    "    plt.axis([0, n_steps + ahead, -1, 1])\n",
    "    plt.legend(fontsize=14)\n",
    "\n",
    "plot_multiple_forecasts(X_new, Y_new, Y_pred)\n",
    "save_fig(\"forecast_ahead_plot\")\n",
    "plt.show()"
   ]
  },
  {
   "cell_type": "code",
   "execution_count": 19,
   "id": "optional-mercury",
   "metadata": {},
   "outputs": [],
   "source": [
    "np.random.seed(42)\n",
    "\n",
    "n_steps = 50\n",
    "series = generate_time_series(10000, n_steps + 10)\n",
    "X_train, Y_train = series[:7000, :n_steps], series[:7000, -10:, 0]\n",
    "X_valid, Y_valid = series[7000:9000, :n_steps], series[7000:9000, -10:, 0]\n",
    "X_test, Y_test = series[9000:, :n_steps], series[9000:, -10:, 0]"
   ]
  },
  {
   "cell_type": "code",
   "execution_count": 20,
   "id": "consolidated-rwanda",
   "metadata": {},
   "outputs": [],
   "source": [
    "X = X_valid\n",
    "for step_ahead in range(10):\n",
    "    y_pred_one = model.predict(X)[:, np.newaxis, :]\n",
    "    X = np.concatenate([X, y_pred_one], axis=1)\n",
    "\n",
    "Y_pred = X[:, n_steps:, 0]"
   ]
  },
  {
   "cell_type": "code",
   "execution_count": 21,
   "id": "moral-surrey",
   "metadata": {},
   "outputs": [
    {
     "data": {
      "text/plain": [
       "(2000, 10)"
      ]
     },
     "execution_count": 21,
     "metadata": {},
     "output_type": "execute_result"
    }
   ],
   "source": [
    "Y_pred.shape"
   ]
  },
  {
   "cell_type": "code",
   "execution_count": 22,
   "id": "flexible-wiring",
   "metadata": {},
   "outputs": [
    {
     "data": {
      "text/plain": [
       "0.25022808"
      ]
     },
     "execution_count": 22,
     "metadata": {},
     "output_type": "execute_result"
    }
   ],
   "source": [
    "np.mean(keras.metrics.mean_squared_error(Y_valid, Y_pred))"
   ]
  },
  {
   "cell_type": "code",
   "execution_count": 23,
   "id": "handled-motorcycle",
   "metadata": {},
   "outputs": [
    {
     "data": {
      "text/plain": [
       "0.22278848"
      ]
     },
     "execution_count": 23,
     "metadata": {},
     "output_type": "execute_result"
    }
   ],
   "source": [
    "\n",
    "Y_naive_pred = Y_valid[:, -1:]\n",
    "np.mean(keras.metrics.mean_squared_error(Y_valid, Y_naive_pred))"
   ]
  },
  {
   "cell_type": "code",
   "execution_count": 24,
   "id": "extra-short",
   "metadata": {},
   "outputs": [
    {
     "name": "stdout",
     "output_type": "stream",
     "text": [
      "Epoch 1/20\n",
      "219/219 [==============================] - 0s 1ms/step - loss: 0.2186 - val_loss: 0.0606\n",
      "Epoch 2/20\n",
      "219/219 [==============================] - 0s 739us/step - loss: 0.0535 - val_loss: 0.0425\n",
      "Epoch 3/20\n",
      "219/219 [==============================] - 0s 737us/step - loss: 0.0406 - val_loss: 0.0353\n",
      "Epoch 4/20\n",
      "219/219 [==============================] - 0s 724us/step - loss: 0.0343 - val_loss: 0.0311\n",
      "Epoch 5/20\n",
      "219/219 [==============================] - 0s 735us/step - loss: 0.0300 - val_loss: 0.0283\n",
      "Epoch 6/20\n",
      "219/219 [==============================] - 0s 734us/step - loss: 0.0278 - val_loss: 0.0264\n",
      "Epoch 7/20\n",
      "219/219 [==============================] - 0s 715us/step - loss: 0.0262 - val_loss: 0.0249\n",
      "Epoch 8/20\n",
      "219/219 [==============================] - 0s 723us/step - loss: 0.0246 - val_loss: 0.0237\n",
      "Epoch 9/20\n",
      "219/219 [==============================] - 0s 802us/step - loss: 0.0236 - val_loss: 0.0229\n",
      "Epoch 10/20\n",
      "219/219 [==============================] - 0s 1ms/step - loss: 0.0228 - val_loss: 0.0222\n",
      "Epoch 11/20\n",
      "219/219 [==============================] - 0s 868us/step - loss: 0.0220 - val_loss: 0.0216\n",
      "Epoch 12/20\n",
      "219/219 [==============================] - 0s 734us/step - loss: 0.0214 - val_loss: 0.0212\n",
      "Epoch 13/20\n",
      "219/219 [==============================] - 0s 724us/step - loss: 0.0212 - val_loss: 0.0208\n",
      "Epoch 14/20\n",
      "219/219 [==============================] - 0s 731us/step - loss: 0.0207 - val_loss: 0.0207\n",
      "Epoch 15/20\n",
      "219/219 [==============================] - 0s 722us/step - loss: 0.0207 - val_loss: 0.0202\n",
      "Epoch 16/20\n",
      "219/219 [==============================] - 0s 725us/step - loss: 0.0199 - val_loss: 0.0199\n",
      "Epoch 17/20\n",
      "219/219 [==============================] - 0s 720us/step - loss: 0.0197 - val_loss: 0.0195\n",
      "Epoch 18/20\n",
      "219/219 [==============================] - 0s 709us/step - loss: 0.0190 - val_loss: 0.0192\n",
      "Epoch 19/20\n",
      "219/219 [==============================] - 0s 738us/step - loss: 0.0189 - val_loss: 0.0189\n",
      "Epoch 20/20\n",
      "219/219 [==============================] - 0s 724us/step - loss: 0.0188 - val_loss: 0.0187\n"
     ]
    }
   ],
   "source": [
    "np.random.seed(42)\n",
    "tf.random.set_seed(42)\n",
    "\n",
    "model = keras.models.Sequential([\n",
    "    keras.layers.Flatten(input_shape=[50, 1]),\n",
    "    keras.layers.Dense(10)\n",
    "])\n",
    "\n",
    "model.compile(loss=\"mse\", optimizer=\"adam\")\n",
    "history = model.fit(X_train, Y_train, epochs=20,\n",
    "                    validation_data=(X_valid, Y_valid))"
   ]
  },
  {
   "cell_type": "code",
   "execution_count": 25,
   "id": "direct-palace",
   "metadata": {},
   "outputs": [
    {
     "name": "stdout",
     "output_type": "stream",
     "text": [
      "Epoch 1/20\n",
      "219/219 [==============================] - 4s 15ms/step - loss: 0.1216 - val_loss: 0.0317\n",
      "Epoch 2/20\n",
      "219/219 [==============================] - 3s 14ms/step - loss: 0.0294 - val_loss: 0.0200\n",
      "Epoch 3/20\n",
      "219/219 [==============================] - 3s 13ms/step - loss: 0.0198 - val_loss: 0.0160\n",
      "Epoch 4/20\n",
      "219/219 [==============================] - 3s 13ms/step - loss: 0.0162 - val_loss: 0.0144\n",
      "Epoch 5/20\n",
      "219/219 [==============================] - 3s 14ms/step - loss: 0.0144 - val_loss: 0.0118\n",
      "Epoch 6/20\n",
      "219/219 [==============================] - 3s 13ms/step - loss: 0.0127 - val_loss: 0.0112\n",
      "Epoch 7/20\n",
      "219/219 [==============================] - 3s 14ms/step - loss: 0.0119 - val_loss: 0.0110\n",
      "Epoch 8/20\n",
      "219/219 [==============================] - 3s 14ms/step - loss: 0.0114 - val_loss: 0.0103\n",
      "Epoch 9/20\n",
      "219/219 [==============================] - 3s 14ms/step - loss: 0.0110 - val_loss: 0.0112\n",
      "Epoch 10/20\n",
      "219/219 [==============================] - 3s 14ms/step - loss: 0.0118 - val_loss: 0.0100\n",
      "Epoch 11/20\n",
      "219/219 [==============================] - 3s 14ms/step - loss: 0.0109 - val_loss: 0.0103\n",
      "Epoch 12/20\n",
      "219/219 [==============================] - 3s 14ms/step - loss: 0.0104 - val_loss: 0.0096\n",
      "Epoch 13/20\n",
      "219/219 [==============================] - 3s 13ms/step - loss: 0.0103 - val_loss: 0.0100\n",
      "Epoch 14/20\n",
      "219/219 [==============================] - 3s 14ms/step - loss: 0.0101 - val_loss: 0.0103\n",
      "Epoch 15/20\n",
      "219/219 [==============================] - 3s 14ms/step - loss: 0.0095 - val_loss: 0.0107\n",
      "Epoch 16/20\n",
      "219/219 [==============================] - 3s 15ms/step - loss: 0.0095 - val_loss: 0.0089\n",
      "Epoch 17/20\n",
      "219/219 [==============================] - 3s 15ms/step - loss: 0.0092 - val_loss: 0.0111\n",
      "Epoch 18/20\n",
      "219/219 [==============================] - 3s 14ms/step - loss: 0.0098 - val_loss: 0.0094\n",
      "Epoch 19/20\n",
      "219/219 [==============================] - 3s 15ms/step - loss: 0.0090 - val_loss: 0.0083\n",
      "Epoch 20/20\n",
      "219/219 [==============================] - 3s 15ms/step - loss: 0.0092 - val_loss: 0.0085\n"
     ]
    }
   ],
   "source": [
    "np.random.seed(42)\n",
    "tf.random.set_seed(42)\n",
    "\n",
    "model = keras.models.Sequential([\n",
    "    keras.layers.SimpleRNN(20, return_sequences=True, input_shape=[None, 1]),\n",
    "    keras.layers.SimpleRNN(20),\n",
    "    keras.layers.Dense(10)\n",
    "])\n",
    "\n",
    "model.compile(loss=\"mse\", optimizer=\"adam\")\n",
    "history = model.fit(X_train, Y_train, epochs=20,\n",
    "                    validation_data=(X_valid, Y_valid))"
   ]
  },
  {
   "cell_type": "code",
   "execution_count": 26,
   "id": "brown-limit",
   "metadata": {},
   "outputs": [],
   "source": [
    "np.random.seed(43)\n",
    "\n",
    "series = generate_time_series(1, 50 + 10)\n",
    "X_new, Y_new = series[:, :50, :], series[:, -10:, :]\n",
    "Y_pred = model.predict(X_new)[..., np.newaxis]"
   ]
  },
  {
   "cell_type": "code",
   "execution_count": 27,
   "id": "parental-tourism",
   "metadata": {},
   "outputs": [
    {
     "data": {
      "image/png": "[encoded data removed]",
      "text/plain": [
       "<Figure size 432x288 with 1 Axes>"
      ]
     },
     "metadata": {
      "needs_background": "light"
     },
     "output_type": "display_data"
    }
   ],
   "source": [
    "plot_multiple_forecasts(X_new, Y_new, Y_pred)\n",
    "plt.show()"
   ]
  },
  {
   "cell_type": "code",
   "execution_count": 28,
   "id": "unlike-confidentiality",
   "metadata": {},
   "outputs": [],
   "source": [
    "np.random.seed(42)\n",
    "\n",
    "n_steps = 50\n",
    "series = generate_time_series(10000, n_steps + 10)\n",
    "X_train = series[:7000, :n_steps]\n",
    "X_valid = series[7000:9000, :n_steps]\n",
    "X_test = series[9000:, :n_steps]\n",
    "Y = np.empty((10000, n_steps, 10))\n",
    "for step_ahead in range(1, 10 + 1):\n",
    "    Y[..., step_ahead - 1] = series[..., step_ahead:step_ahead + n_steps, 0]\n",
    "Y_train = Y[:7000]\n",
    "Y_valid = Y[7000:9000]\n",
    "Y_test = Y[9000:]"
   ]
  },
  {
   "cell_type": "code",
   "execution_count": 29,
   "id": "fleet-negative",
   "metadata": {},
   "outputs": [
    {
     "data": {
      "text/plain": [
       "((7000, 50, 1), (7000, 50, 10))"
      ]
     },
     "execution_count": 29,
     "metadata": {},
     "output_type": "execute_result"
    }
   ],
   "source": [
    "X_train.shape, Y_train.shape"
   ]
  },
  {
   "cell_type": "code",
   "execution_count": 30,
   "id": "mobile-display",
   "metadata": {},
   "outputs": [
    {
     "name": "stderr",
     "output_type": "stream",
     "text": [
      "/usr/local/lib/python3.9/site-packages/tensorflow/python/keras/optimizer_v2/optimizer_v2.py:374: UserWarning: The `lr` argument is deprecated, use `learning_rate` instead.\n",
      "  warnings.warn(\n"
     ]
    },
    {
     "name": "stdout",
     "output_type": "stream",
     "text": [
      "Epoch 1/20\n",
      "WARNING:tensorflow:AutoGraph could not transform <function last_time_step_mse at 0x1702d3c10> and will run it as-is.\n",
      "Please report this to the TensorFlow team. When filing the bug, set the verbosity to 10 (on Linux, `export AUTOGRAPH_VERBOSITY=10`) and attach the full output.\n",
      "Cause: invalid syntax (tmp03qddkf6.py, line 12)\n",
      "To silence this warning, decorate the function with @tf.autograph.experimental.do_not_convert\n",
      "WARNING: AutoGraph could not transform <function last_time_step_mse at 0x1702d3c10> and will run it as-is.\n",
      "Please report this to the TensorFlow team. When filing the bug, set the verbosity to 10 (on Linux, `export AUTOGRAPH_VERBOSITY=10`) and attach the full output.\n",
      "Cause: invalid syntax (tmp03qddkf6.py, line 12)\n",
      "To silence this warning, decorate the function with @tf.autograph.experimental.do_not_convert\n",
      "219/219 [==============================] - 4s 15ms/step - loss: 0.0705 - last_time_step_mse: 0.0621 - val_loss: 0.0429 - val_last_time_step_mse: 0.0324\n",
      "Epoch 2/20\n",
      "219/219 [==============================] - 3s 14ms/step - loss: 0.0413 - last_time_step_mse: 0.0301 - val_loss: 0.0366 - val_last_time_step_mse: 0.0264\n",
      "Epoch 3/20\n",
      "219/219 [==============================] - 3s 13ms/step - loss: 0.0333 - last_time_step_mse: 0.0223 - val_loss: 0.0343 - val_last_time_step_mse: 0.0244\n",
      "Epoch 4/20\n",
      "219/219 [==============================] - 3s 15ms/step - loss: 0.0306 - last_time_step_mse: 0.0200 - val_loss: 0.0284 - val_last_time_step_mse: 0.0164\n",
      "Epoch 5/20\n",
      "219/219 [==============================] - 3s 14ms/step - loss: 0.0281 - last_time_step_mse: 0.0167 - val_loss: 0.0282 - val_last_time_step_mse: 0.0196\n",
      "Epoch 6/20\n",
      "219/219 [==============================] - 3s 13ms/step - loss: 0.0259 - last_time_step_mse: 0.0137 - val_loss: 0.0215 - val_last_time_step_mse: 0.0081\n",
      "Epoch 7/20\n",
      "219/219 [==============================] - 3s 13ms/step - loss: 0.0234 - last_time_step_mse: 0.0105 - val_loss: 0.0220 - val_last_time_step_mse: 0.0089\n",
      "Epoch 8/20\n",
      "219/219 [==============================] - 3s 14ms/step - loss: 0.0216 - last_time_step_mse: 0.0085 - val_loss: 0.0217 - val_last_time_step_mse: 0.0091\n",
      "Epoch 9/20\n",
      "219/219 [==============================] - 3s 14ms/step - loss: 0.0214 - last_time_step_mse: 0.0089 - val_loss: 0.0202 - val_last_time_step_mse: 0.0074\n",
      "Epoch 10/20\n",
      "219/219 [==============================] - 3s 13ms/step - loss: 0.0210 - last_time_step_mse: 0.0085 - val_loss: 0.0211 - val_last_time_step_mse: 0.0086\n",
      "Epoch 11/20\n",
      "219/219 [==============================] - 3s 13ms/step - loss: 0.0203 - last_time_step_mse: 0.0078 - val_loss: 0.0201 - val_last_time_step_mse: 0.0078\n",
      "Epoch 12/20\n",
      "219/219 [==============================] - 3s 13ms/step - loss: 0.0203 - last_time_step_mse: 0.0079 - val_loss: 0.0194 - val_last_time_step_mse: 0.0073\n",
      "Epoch 13/20\n",
      "219/219 [==============================] - 3s 13ms/step - loss: 0.0198 - last_time_step_mse: 0.0074 - val_loss: 0.0209 - val_last_time_step_mse: 0.0085\n",
      "Epoch 14/20\n",
      "219/219 [==============================] - 3s 13ms/step - loss: 0.0197 - last_time_step_mse: 0.0073 - val_loss: 0.0189 - val_last_time_step_mse: 0.0067\n",
      "Epoch 15/20\n",
      "219/219 [==============================] - 3s 13ms/step - loss: 0.0192 - last_time_step_mse: 0.0072 - val_loss: 0.0182 - val_last_time_step_mse: 0.0066\n",
      "Epoch 16/20\n",
      "219/219 [==============================] - 3s 14ms/step - loss: 0.0187 - last_time_step_mse: 0.0066 - val_loss: 0.0196 - val_last_time_step_mse: 0.0095\n",
      "Epoch 17/20\n",
      "219/219 [==============================] - 3s 15ms/step - loss: 0.0187 - last_time_step_mse: 0.0067 - val_loss: 0.0185 - val_last_time_step_mse: 0.0072\n",
      "Epoch 18/20\n",
      "219/219 [==============================] - 3s 14ms/step - loss: 0.0186 - last_time_step_mse: 0.0067 - val_loss: 0.0179 - val_last_time_step_mse: 0.0064\n",
      "Epoch 19/20\n",
      "219/219 [==============================] - 3s 14ms/step - loss: 0.0185 - last_time_step_mse: 0.0068 - val_loss: 0.0172 - val_last_time_step_mse: 0.0058\n",
      "Epoch 20/20\n",
      "219/219 [==============================] - 3s 15ms/step - loss: 0.0181 - last_time_step_mse: 0.0066 - val_loss: 0.0205 - val_last_time_step_mse: 0.0096\n"
     ]
    }
   ],
   "source": [
    "np.random.seed(42)\n",
    "tf.random.set_seed(42)\n",
    "\n",
    "model = keras.models.Sequential([\n",
    "    keras.layers.SimpleRNN(20, return_sequences=True, input_shape=[None, 1]),\n",
    "    keras.layers.SimpleRNN(20, return_sequences=True),\n",
    "    keras.layers.TimeDistributed(keras.layers.Dense(10))\n",
    "])\n",
    "\n",
    "def last_time_step_mse(Y_true, Y_pred):\n",
    "    return keras.metrics.mean_squared_error(Y_true[:, -1], Y_pred[:, -1])\n",
    "\n",
    "model.compile(loss=\"mse\", optimizer=keras.optimizers.Adam(lr=0.01), metrics=[last_time_step_mse])\n",
    "history = model.fit(X_train, Y_train, epochs=20,\n",
    "                    validation_data=(X_valid, Y_valid))"
   ]
  },
  {
   "cell_type": "code",
   "execution_count": 31,
   "id": "historic-brook",
   "metadata": {},
   "outputs": [],
   "source": [
    "np.random.seed(43)\n",
    "\n",
    "series = generate_time_series(1, 50 + 10)\n",
    "X_new, Y_new = series[:, :50, :], series[:, 50:, :]\n",
    "Y_pred = model.predict(X_new)[:, -1][..., np.newaxis]"
   ]
  },
  {
   "cell_type": "code",
   "execution_count": 32,
   "id": "referenced-barrier",
   "metadata": {},
   "outputs": [
    {
     "data": {
      "image/png": "[encoded data removed]",
      "text/plain": [
       "<Figure size 432x288 with 1 Axes>"
      ]
     },
     "metadata": {
      "needs_background": "light"
     },
     "output_type": "display_data"
    }
   ],
   "source": [
    "plot_multiple_forecasts(X_new, Y_new, Y_pred)\n",
    "plt.show()"
   ]
  },
  {
   "cell_type": "code",
   "execution_count": null,
   "id": "industrial-extension",
   "metadata": {},
   "outputs": [],
   "source": []
  }
 ],
 "metadata": {
  "kernelspec": {
   "display_name": "Python 3",
   "language": "python",
   "name": "python3"
  },
  "language_info": {
   "codemirror_mode": {
    "name": "ipython",
    "version": 3
   },
   "file_extension": ".py",
   "mimetype": "text/x-python",
   "name": "python",
   "nbconvert_exporter": "python",
   "pygments_lexer": "ipython3",
   "version": "3.9.1"
  }
 },
 "nbformat": 4,
 "nbformat_minor": 5
}
