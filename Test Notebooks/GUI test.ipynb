{
 "cells": [
  {
   "cell_type": "code",
   "execution_count": 1,
   "id": "catholic-greenhouse",
   "metadata": {},
   "outputs": [
    {
     "data": {
      "application/vnd.jupyter.widget-view+json": {
       "model_id": "17470e1c1a1d40cd8ca74794ea337212",
       "version_major": 2,
       "version_minor": 0
      },
      "text/plain": [
       "HBox(children=(Select(description='Instrument ID: ', options=('1', '2', '4', '5', '6', '7', '8', '9'), value='…"
      ]
     },
     "metadata": {},
     "output_type": "display_data"
    },
    {
     "data": {
      "application/vnd.jupyter.widget-view+json": {
       "model_id": "10ffc2c437f64afabcc7c1ac47af7be5",
       "version_major": 2,
       "version_minor": 0
      },
      "text/plain": [
       "HBox(children=(DatePicker(value=datetime.datetime(2021, 1, 1, 0, 0), description='Start Date'), DatePicker(val…"
      ]
     },
     "metadata": {},
     "output_type": "display_data"
    },
    {
     "data": {
      "application/vnd.jupyter.widget-view+json": {
       "model_id": "2ae6b8e3a63249f9829a1d0589a0b53a",
       "version_major": 2,
       "version_minor": 0
      },
      "text/plain": [
       "HBox(children=(Button(description='Download File', style=ButtonStyle()),))"
      ]
     },
     "metadata": {},
     "output_type": "display_data"
    },
    {
     "data": {
      "application/vnd.jupyter.widget-view+json": {
       "model_id": "c897bbcf5efd47dba9f21ed7238c3617",
       "version_major": 2,
       "version_minor": 0
      },
      "text/plain": [
       "HBox(children=(Textarea(value='', description='Output:', layout=Layout(height='100px', width='90%')),))"
      ]
     },
     "metadata": {},
     "output_type": "display_data"
    },
    {
     "data": {
      "application/vnd.jupyter.widget-view+json": {
       "model_id": "9e733ec2fbf24dda85748e4d451f96c3",
       "version_major": 2,
       "version_minor": 0
      },
      "text/plain": [
       "Output()"
      ]
     },
     "metadata": {},
     "output_type": "display_data"
    }
   ],
   "source": [
    "# Make the libraries directory serachable for Python\n",
    "import sys\n",
    "sys.path.insert(1, './libraries')\n",
    "\n",
    "from chords_gui import chords_gui \n",
    "\n",
    "domain = 'tzvolcano.chordsrt.com'\n",
    "chords = chords_gui(domain)\n",
    "\n",
    "# Define the initial start and end date for the date selector\n",
    "start_date_string = '2021-01-01'\n",
    "end_date_string = '2021-01-01'\n",
    "\n",
    "# Generate the uer interface\n",
    "chords.start_end_widgets(start_date_string, end_date_string)\n"
   ]
  },
  {
   "cell_type": "code",
   "execution_count": 2,
   "id": "toxic-sunday",
   "metadata": {},
   "outputs": [
    {
     "name": "stdout",
     "output_type": "stream",
     "text": [
      "Available Data Files\n"
     ]
    },
    {
     "data": {
      "application/vnd.jupyter.widget-view+json": {
       "model_id": "2c6cb84bd4af47d7af50abd775f22c37",
       "version_major": 2,
       "version_minor": 0
      },
      "text/plain": [
       "HBox(children=(Select(layout=Layout(width='initial'), options=('tzvolcano_chordsrt_com_instrument_id_1_2021-01…"
      ]
     },
     "metadata": {},
     "output_type": "display_data"
    },
    {
     "data": {
      "application/vnd.jupyter.widget-view+json": {
       "model_id": "9e733ec2fbf24dda85748e4d451f96c3",
       "version_major": 2,
       "version_minor": 0
      },
      "text/plain": [
       "Output()"
      ]
     },
     "metadata": {},
     "output_type": "display_data"
    }
   ],
   "source": [
    "chords.select_data_file()"
   ]
  },
  {
   "cell_type": "code",
   "execution_count": 3,
   "id": "incorporated-combat",
   "metadata": {},
   "outputs": [
    {
     "name": "stdout",
     "output_type": "stream",
     "text": [
      "tzvolcano_chordsrt_com_instrument_id_1_2021-01-01_to_2021-01-01.csv\n"
     ]
    }
   ],
   "source": [
    "print(chords.available_data_files.value)"
   ]
  },
  {
   "cell_type": "code",
   "execution_count": 4,
   "id": "valued-broad",
   "metadata": {},
   "outputs": [
    {
     "name": "stdout",
     "output_type": "stream",
     "text": [
      "csv_files/tzvolcano_chordsrt_com_instrument_id_1_2021-01-01_to_2021-01-01.csv\n"
     ]
    }
   ],
   "source": [
    "file_name = chords.available_data_files.value\n",
    "\n",
    "data = chords.load_data_from_file(file_name)"
   ]
  },
  {
   "cell_type": "code",
   "execution_count": null,
   "id": "constitutional-journal",
   "metadata": {},
   "outputs": [],
   "source": []
  },
  {
   "cell_type": "code",
   "execution_count": null,
   "id": "overhead-writer",
   "metadata": {},
   "outputs": [],
   "source": []
  },
  {
   "cell_type": "code",
   "execution_count": null,
   "id": "frequent-contributor",
   "metadata": {},
   "outputs": [],
   "source": []
  }
 ],
 "metadata": {
  "kernelspec": {
   "display_name": "Python 3",
   "language": "python",
   "name": "python3"
  },
  "language_info": {
   "codemirror_mode": {
    "name": "ipython",
    "version": 3
   },
   "file_extension": ".py",
   "mimetype": "text/x-python",
   "name": "python",
   "nbconvert_exporter": "python",
   "pygments_lexer": "ipython3",
   "version": "3.9.1"
  }
 },
 "nbformat": 4,
 "nbformat_minor": 5
}
