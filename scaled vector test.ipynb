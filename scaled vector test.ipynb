{
 "cells": [
  {
   "cell_type": "code",
   "execution_count": 12,
   "id": "finite-chest",
   "metadata": {},
   "outputs": [],
   "source": [
    "# Define critical control variables\n",
    "\n",
    "# Min/max values used to scale the height, lon, and lat\n",
    "scale_minimum = -1\n",
    "scale_maximum = 1"
   ]
  },
  {
   "cell_type": "code",
   "execution_count": 13,
   "id": "geographic-house",
   "metadata": {},
   "outputs": [],
   "source": [
    "# Common imports\n",
    "import os\n",
    "from pathlib import Path\n",
    "\n",
    "import numpy as np\n",
    "import pandas as pd\n"
   ]
  },
  {
   "cell_type": "code",
   "execution_count": 14,
   "id": "moderate-conversion",
   "metadata": {},
   "outputs": [],
   "source": [
    "# Plotting\n",
    "%matplotlib inline\n",
    "import matplotlib as mpl\n",
    "import matplotlib.pyplot as plt\n"
   ]
  },
  {
   "cell_type": "code",
   "execution_count": 15,
   "id": "latter-trustee",
   "metadata": {},
   "outputs": [],
   "source": [
    "# Import functions from the utilities file\n",
    "from TZVOLCANO_utilities import *\n",
    "\n",
    "# Early version of chords GUI interface\n",
    "from chords_gui import chords_gui "
   ]
  },
  {
   "cell_type": "code",
   "execution_count": 16,
   "id": "documentary-knitting",
   "metadata": {},
   "outputs": [
    {
     "data": {
      "application/vnd.jupyter.widget-view+json": {
       "model_id": "2ab29ac1e83d467da40a16ce44fb9969",
       "version_major": 2,
       "version_minor": 0
      },
      "text/plain": [
       "HBox(children=(Select(description='Instrument ID: ', options=('1', '2', '4', '5', '6', '7', '8', '9'), value='…"
      ]
     },
     "metadata": {},
     "output_type": "display_data"
    },
    {
     "data": {
      "application/vnd.jupyter.widget-view+json": {
       "model_id": "e2a3d79e05564b9d9f5919b8256c7175",
       "version_major": 2,
       "version_minor": 0
      },
      "text/plain": [
       "HBox(children=(DatePicker(value=datetime.datetime(2021, 1, 1, 0, 0), description='Start Date'), DatePicker(val…"
      ]
     },
     "metadata": {},
     "output_type": "display_data"
    },
    {
     "data": {
      "application/vnd.jupyter.widget-view+json": {
       "model_id": "8d1bddad270e421db19edf59504fe31d",
       "version_major": 2,
       "version_minor": 0
      },
      "text/plain": [
       "HBox(children=(Button(description='Download File', style=ButtonStyle()),))"
      ]
     },
     "metadata": {},
     "output_type": "display_data"
    },
    {
     "data": {
      "application/vnd.jupyter.widget-view+json": {
       "model_id": "9debf0c6f79949e09b3bcb200d10dba5",
       "version_major": 2,
       "version_minor": 0
      },
      "text/plain": [
       "HBox(children=(Textarea(value='', description='Output:', layout=Layout(height='100px', width='90%')),))"
      ]
     },
     "metadata": {},
     "output_type": "display_data"
    },
    {
     "data": {
      "application/vnd.jupyter.widget-view+json": {
       "model_id": "5bc85900272748a6bde2c305c2c07fe7",
       "version_major": 2,
       "version_minor": 0
      },
      "text/plain": [
       "Output()"
      ]
     },
     "metadata": {},
     "output_type": "display_data"
    }
   ],
   "source": [
    "# Render the data download widget\n",
    "domain = 'tzvolcano.chordsrt.com'\n",
    "chords = chords_gui(domain)\n",
    "\n",
    "# Define the initial start and end date for the date selector\n",
    "start_date_string = '2021-01-01'\n",
    "end_date_string = '2021-01-05'\n",
    "\n",
    "# Generate the uer interface\n",
    "chords.start_end_widgets(start_date_string, end_date_string)"
   ]
  },
  {
   "cell_type": "code",
   "execution_count": 17,
   "id": "derived-mineral",
   "metadata": {},
   "outputs": [
    {
     "name": "stdout",
     "output_type": "stream",
     "text": [
      "Available Data Files\n"
     ]
    },
    {
     "data": {
      "application/vnd.jupyter.widget-view+json": {
       "model_id": "652afb62ab4244bcbbc8f6da7e1374b5",
       "version_major": 2,
       "version_minor": 0
      },
      "text/plain": [
       "HBox(children=(Select(layout=Layout(width='initial'), options=('tzvolcano_chordsrt_com_instrument_id_1_2021-01…"
      ]
     },
     "metadata": {},
     "output_type": "display_data"
    },
    {
     "data": {
      "application/vnd.jupyter.widget-view+json": {
       "model_id": "5bc85900272748a6bde2c305c2c07fe7",
       "version_major": 2,
       "version_minor": 0
      },
      "text/plain": [
       "Output()"
      ]
     },
     "metadata": {},
     "output_type": "display_data"
    }
   ],
   "source": [
    "chords.select_data_file()"
   ]
  },
  {
   "cell_type": "code",
   "execution_count": 18,
   "id": "independent-cradle",
   "metadata": {},
   "outputs": [
    {
     "name": "stdout",
     "output_type": "stream",
     "text": [
      "Imported csv dat fromtzvolcano_chordsrt_com_instrument_id_1_2021-01-01_to_2021-01-01.csv\n",
      "csv_files/tzvolcano_chordsrt_com_instrument_id_1_2021-01-01_to_2021-01-01.csv\n"
     ]
    }
   ],
   "source": [
    "# Read contents of the selected file in to a pandas object\n",
    "file_name = chords.available_data_files.value\n",
    "print(\"Imported csv dat from\" + file_name)\n",
    "\n",
    "unmodified_data = chords.load_data_from_file(file_name)"
   ]
  },
  {
   "cell_type": "code",
   "execution_count": 19,
   "id": "painted-evaluation",
   "metadata": {},
   "outputs": [],
   "source": [
    "# Fill in missing points in the time series\n",
    "resampled_data = unmodified_data.copy()\n",
    "\n",
    "resampled_data = resampled_data.set_index('Time').sort_index().resample('1000ms').ffill()\n",
    "\n",
    "# Re-insert the 'Time' field, as the resampling process changed it to be the index\n",
    "resampled_data['Time'] = resampled_data.index\n",
    "\n",
    "# print(str(resampled_data['Time'].size - unmodified_data['Time'].size) + \" missing points filled with NaN\")"
   ]
  },
  {
   "cell_type": "code",
   "execution_count": 20,
   "id": "frank-belgium",
   "metadata": {},
   "outputs": [],
   "source": [
    "# Rescale Height, Longitude and Latitude to the range between scale_minimum and scale_maximum\n",
    "scaled_data = pd.DataFrame()\n",
    "\n",
    "# Convert the Time variable to Seconds Since Epoch\n",
    "scaled_data[\"Seconds Since Epoch\"] = resampled_data['Time'].astype(np.int64)\n",
    "# scaled_data[\"Time\"] = resampled_data['Time']\n",
    "\n",
    "scaled_data[\"Scaled Height\"] = scale_np_data(resampled_data[\"Height\"].to_numpy(), scale_minimum, scale_maximum)\n",
    "scaled_data[\"Scaled Latitude\"] = scale_np_data(resampled_data[\"Latitude\"].to_numpy(), scale_minimum, scale_maximum)\n",
    "scaled_data[\"Scaled Longitude\"] = scale_np_data(resampled_data[\"Longitude\"].to_numpy(), scale_minimum, scale_maximum)"
   ]
  },
  {
   "cell_type": "code",
   "execution_count": 21,
   "id": "australian-canadian",
   "metadata": {},
   "outputs": [
    {
     "data": {
      "image/png": "[encoded data removed]",
      "text/plain": [
       "<Figure size 1152x720 with 1 Axes>"
      ]
     },
     "metadata": {
      "needs_background": "light"
     },
     "output_type": "display_data"
    }
   ],
   "source": [
    "plt.figure(figsize=(16, 10))\n",
    "\n",
    "# get current axis\n",
    "ax = plt.gca()\n",
    "alpha = 0.6\n",
    "\n",
    "scaled_data.plot(kind='line',x='Seconds Since Epoch',y='Scaled Height', color='blue',ax=ax, alpha=alpha)\n",
    "scaled_data.plot(kind='line',x='Seconds Since Epoch',y='Scaled Latitude', color='red', ax=ax, alpha=alpha)\n",
    "scaled_data.plot(kind='line',x='Seconds Since Epoch',y='Scaled Longitude', color='orange', ax=ax, alpha=alpha)\n",
    "\n",
    "plt.show()"
   ]
  },
  {
   "cell_type": "code",
   "execution_count": 22,
   "id": "intended-average",
   "metadata": {},
   "outputs": [
    {
     "ename": "NameError",
     "evalue": "name 'scale_minimum' is not defined",
     "output_type": "error",
     "traceback": [
      "\u001b[0;31m---------------------------------------------------------------------------\u001b[0m",
      "\u001b[0;31mNameError\u001b[0m                                 Traceback (most recent call last)",
      "\u001b[0;32m<ipython-input-22-b5f6ef6f9dc4>\u001b[0m in \u001b[0;36m<module>\u001b[0;34m\u001b[0m\n\u001b[1;32m      2\u001b[0m \u001b[0mfields_list\u001b[0m \u001b[0;34m=\u001b[0m \u001b[0;34m[\u001b[0m\u001b[0;34m'Scaled Height'\u001b[0m\u001b[0;34m,\u001b[0m \u001b[0;34m'Scaled Latitude'\u001b[0m\u001b[0;34m,\u001b[0m \u001b[0;34m'Scaled Longitude'\u001b[0m\u001b[0;34m]\u001b[0m\u001b[0;34m\u001b[0m\u001b[0;34m\u001b[0m\u001b[0m\n\u001b[1;32m      3\u001b[0m \u001b[0;34m\u001b[0m\u001b[0m\n\u001b[0;32m----> 4\u001b[0;31m \u001b[0mscaled_data\u001b[0m\u001b[0;34m[\u001b[0m\u001b[0;34m\"Average Scalar\"\u001b[0m\u001b[0;34m]\u001b[0m \u001b[0;34m=\u001b[0m \u001b[0mcalculate_scalar\u001b[0m\u001b[0;34m(\u001b[0m\u001b[0mscaled_data\u001b[0m\u001b[0;34m,\u001b[0m \u001b[0mfields_list\u001b[0m\u001b[0;34m)\u001b[0m\u001b[0;34m\u001b[0m\u001b[0;34m\u001b[0m\u001b[0m\n\u001b[0m",
      "\u001b[0;32m~/Desktop/Code/TZVOLCANO_machine_learning/TZVOLCANO_utilities.py\u001b[0m in \u001b[0;36mcalculate_scalar\u001b[0;34m(pandas_object, vector_fields_list)\u001b[0m\n\u001b[1;32m     32\u001b[0m     \u001b[0mscalar_value\u001b[0m \u001b[0;34m=\u001b[0m \u001b[0mnp\u001b[0m\u001b[0;34m.\u001b[0m\u001b[0msqrt\u001b[0m\u001b[0;34m(\u001b[0m\u001b[0meval\u001b[0m\u001b[0;34m(\u001b[0m\u001b[0mstring\u001b[0m\u001b[0;34m)\u001b[0m\u001b[0;34m)\u001b[0m\u001b[0;34m\u001b[0m\u001b[0;34m\u001b[0m\u001b[0m\n\u001b[1;32m     33\u001b[0m \u001b[0;34m\u001b[0m\u001b[0m\n\u001b[0;32m---> 34\u001b[0;31m     \u001b[0mnormalized_scalar_value\u001b[0m \u001b[0;34m=\u001b[0m \u001b[0mscale_np_data\u001b[0m\u001b[0;34m(\u001b[0m\u001b[0mscalar_value\u001b[0m\u001b[0;34m.\u001b[0m\u001b[0mto_numpy\u001b[0m\u001b[0;34m(\u001b[0m\u001b[0;34m)\u001b[0m\u001b[0;34m,\u001b[0m \u001b[0mscale_minimum\u001b[0m\u001b[0;34m,\u001b[0m \u001b[0mscale_maximum\u001b[0m\u001b[0;34m)\u001b[0m\u001b[0;34m\u001b[0m\u001b[0;34m\u001b[0m\u001b[0m\n\u001b[0m\u001b[1;32m     35\u001b[0m \u001b[0;34m\u001b[0m\u001b[0m\n\u001b[1;32m     36\u001b[0m     \u001b[0;32mreturn\u001b[0m \u001b[0mnormalized_scalar_value\u001b[0m\u001b[0;34m\u001b[0m\u001b[0;34m\u001b[0m\u001b[0m\n",
      "\u001b[0;31mNameError\u001b[0m: name 'scale_minimum' is not defined"
     ]
    }
   ],
   "source": [
    "# Treating the individual fields as a vector, calculate the scalar value as a derived feature\n",
    "fields_list = ['Scaled Height', 'Scaled Latitude', 'Scaled Longitude']\n",
    "\n",
    "scaled_data[\"Average Scalar\"] = calculate_scalar(scaled_data, fields_list, scale_minimum, scale_maximum)"
   ]
  },
  {
   "cell_type": "code",
   "execution_count": null,
   "id": "placed-account",
   "metadata": {},
   "outputs": [],
   "source": [
    "plt.figure(figsize=(16, 10))\n",
    "\n",
    "# get current axis\n",
    "ax = plt.gca()\n",
    "alpha = 0.6\n",
    "\n",
    "scaled_data.plot(kind='line',x='Seconds Since Epoch',y='Scaled Height', color='blue',ax=ax, alpha=alpha)\n",
    "scaled_data.plot(kind='line',x='Seconds Since Epoch',y='Scaled Latitude', color='red', ax=ax, alpha=alpha)\n",
    "scaled_data.plot(kind='line',x='Seconds Since Epoch',y='Scaled Longitude', color='orange', ax=ax, alpha=alpha)\n",
    "\n",
    "scaled_data.plot(kind='line',x='Seconds Since Epoch',y='Average Scalar', color='green', ax=ax, alpha=alpha)\n",
    "\n",
    "plt.show()"
   ]
  },
  {
   "cell_type": "code",
   "execution_count": null,
   "id": "protective-arctic",
   "metadata": {},
   "outputs": [],
   "source": []
  }
 ],
 "metadata": {
  "kernelspec": {
   "display_name": "Python 3",
   "language": "python",
   "name": "python3"
  },
  "language_info": {
   "codemirror_mode": {
    "name": "ipython",
    "version": 3
   },
   "file_extension": ".py",
   "mimetype": "text/x-python",
   "name": "python",
   "nbconvert_exporter": "python",
   "pygments_lexer": "ipython3",
   "version": "3.9.1"
  }
 },
 "nbformat": 4,
 "nbformat_minor": 5
}
