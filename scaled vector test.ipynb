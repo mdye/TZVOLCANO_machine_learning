{
 "cells": [
  {
   "cell_type": "code",
   "execution_count": 9,
   "id": "liquid-bosnia",
   "metadata": {},
   "outputs": [],
   "source": [
    "# Define critical control variables\n",
    "\n",
    "# Min/max values used to scale the height, lon, and lat\n",
    "scale_minimum = 0\n",
    "scale_maximum = 1"
   ]
  },
  {
   "cell_type": "code",
   "execution_count": 18,
   "id": "failing-tourism",
   "metadata": {},
   "outputs": [],
   "source": [
    "# Common imports\n",
    "import os\n",
    "from pathlib import Path\n",
    "\n",
    "import numpy as np\n",
    "import pandas as pd\n"
   ]
  },
  {
   "cell_type": "code",
   "execution_count": 19,
   "id": "sharp-retreat",
   "metadata": {},
   "outputs": [],
   "source": [
    "# Import functions from the utilities file\n",
    "from TZVOLCANO_utilities import *\n",
    "\n",
    "# Early version of chords GUI interface\n",
    "from chords_gui import chords_gui "
   ]
  },
  {
   "cell_type": "code",
   "execution_count": 20,
   "id": "brazilian-sailing",
   "metadata": {},
   "outputs": [
    {
     "data": {
      "application/vnd.jupyter.widget-view+json": {
       "model_id": "ab165c49501e42ebbd595a6bde7cbab8",
       "version_major": 2,
       "version_minor": 0
      },
      "text/plain": [
       "HBox(children=(Select(description='Instrument ID: ', options=('1', '2', '4', '5', '6', '7', '8', '9'), value='…"
      ]
     },
     "metadata": {},
     "output_type": "display_data"
    },
    {
     "data": {
      "application/vnd.jupyter.widget-view+json": {
       "model_id": "98160c86d9be4a2abff413369cd69ee7",
       "version_major": 2,
       "version_minor": 0
      },
      "text/plain": [
       "HBox(children=(DatePicker(value=datetime.datetime(2021, 1, 1, 0, 0), description='Start Date'), DatePicker(val…"
      ]
     },
     "metadata": {},
     "output_type": "display_data"
    },
    {
     "data": {
      "application/vnd.jupyter.widget-view+json": {
       "model_id": "5264458dc1f04e1e975b4773df6b414d",
       "version_major": 2,
       "version_minor": 0
      },
      "text/plain": [
       "HBox(children=(Button(description='Download File', style=ButtonStyle()),))"
      ]
     },
     "metadata": {},
     "output_type": "display_data"
    },
    {
     "data": {
      "application/vnd.jupyter.widget-view+json": {
       "model_id": "25ad3c9f1f3b499581876824035730bc",
       "version_major": 2,
       "version_minor": 0
      },
      "text/plain": [
       "HBox(children=(Textarea(value='', description='Output:', layout=Layout(height='100px', width='90%')),))"
      ]
     },
     "metadata": {},
     "output_type": "display_data"
    },
    {
     "data": {
      "application/vnd.jupyter.widget-view+json": {
       "model_id": "fd999c0f4134417fa868cc21ae67ee59",
       "version_major": 2,
       "version_minor": 0
      },
      "text/plain": [
       "Output()"
      ]
     },
     "metadata": {},
     "output_type": "display_data"
    }
   ],
   "source": [
    "# Render the data download widget\n",
    "domain = 'tzvolcano.chordsrt.com'\n",
    "chords = chords_gui(domain)\n",
    "\n",
    "# Define the initial start and end date for the date selector\n",
    "start_date_string = '2021-01-01'\n",
    "end_date_string = '2021-01-05'\n",
    "\n",
    "# Generate the uer interface\n",
    "chords.start_end_widgets(start_date_string, end_date_string)"
   ]
  },
  {
   "cell_type": "code",
   "execution_count": 21,
   "id": "stunning-campaign",
   "metadata": {},
   "outputs": [
    {
     "name": "stdout",
     "output_type": "stream",
     "text": [
      "Available Data Files\n"
     ]
    },
    {
     "data": {
      "application/vnd.jupyter.widget-view+json": {
       "model_id": "c9b7a66e565d4b89b6cc59653da9f347",
       "version_major": 2,
       "version_minor": 0
      },
      "text/plain": [
       "HBox(children=(Select(layout=Layout(width='initial'), options=('tzvolcano_chordsrt_com_instrument_id_1_2021-01…"
      ]
     },
     "metadata": {},
     "output_type": "display_data"
    },
    {
     "data": {
      "application/vnd.jupyter.widget-view+json": {
       "model_id": "fd999c0f4134417fa868cc21ae67ee59",
       "version_major": 2,
       "version_minor": 0
      },
      "text/plain": [
       "Output()"
      ]
     },
     "metadata": {},
     "output_type": "display_data"
    }
   ],
   "source": [
    "chords.select_data_file()"
   ]
  },
  {
   "cell_type": "code",
   "execution_count": 29,
   "id": "divided-insulin",
   "metadata": {},
   "outputs": [
    {
     "name": "stdout",
     "output_type": "stream",
     "text": [
      "Imported csv dat fromtzvolcano_chordsrt_com_instrument_id_1_2021-01-01_to_2021-01-01.csv\n",
      "csv_files/tzvolcano_chordsrt_com_instrument_id_1_2021-01-01_to_2021-01-01.csv\n",
      "Index(['Time', 'Latitude', 'Longitude', 'Height'], dtype='object')\n"
     ]
    }
   ],
   "source": [
    "# Read the fileselected file to use\n",
    "file_name = chords.available_data_files.value\n",
    "print(\"Imported csv dat from\" + file_name)\n",
    "\n",
    "unmodified_data = chords.load_data_from_file(file_name)\n",
    "print(unmodified_data.keys())"
   ]
  },
  {
   "cell_type": "code",
   "execution_count": 25,
   "id": "dress-bacteria",
   "metadata": {},
   "outputs": [],
   "source": [
    "scaled_data = pd.DataFrame()"
   ]
  },
  {
   "cell_type": "code",
   "execution_count": 32,
   "id": "democratic-blank",
   "metadata": {},
   "outputs": [
    {
     "data": {
      "text/plain": [
       "Index(['Scaled Height', 'Scaled Latitude', 'Scaled Longitude',\n",
       "       'Seconds Since Epoch'],\n",
       "      dtype='object')"
      ]
     },
     "execution_count": 32,
     "metadata": {},
     "output_type": "execute_result"
    }
   ],
   "source": [
    "# Convert the Time variable to Seconds Since Epoch\n",
    "scaled_data[\"Seconds Since Epoch\"] = unmodified_data['Time'].astype(np.int64)\n",
    "\n",
    "# Rescale Height, Longitude and Latitude to the range between scale_minimum and scale_maximum\n",
    "scaled_data[\"Scaled Height\"] = scale_np_data(unmodified_data[\"Height\"].to_numpy(), scale_minimum, scale_maximum)\n",
    "scaled_data[\"Scaled Latitude\"] = scale_np_data(unmodified_data[\"Latitude\"].to_numpy(), scale_minimum, scale_maximum)\n",
    "scaled_data[\"Scaled Longitude\"] = scale_np_data(unmodified_data[\"Longitude\"].to_numpy(), scale_minimum, scale_maximum)\n",
    "\n",
    "\n",
    "scaled_data.keys()"
   ]
  },
  {
   "cell_type": "code",
   "execution_count": null,
   "id": "intended-scene",
   "metadata": {},
   "outputs": [],
   "source": []
  }
 ],
 "metadata": {
  "kernelspec": {
   "display_name": "Python 3",
   "language": "python",
   "name": "python3"
  },
  "language_info": {
   "codemirror_mode": {
    "name": "ipython",
    "version": 3
   },
   "file_extension": ".py",
   "mimetype": "text/x-python",
   "name": "python",
   "nbconvert_exporter": "python",
   "pygments_lexer": "ipython3",
   "version": "3.9.1"
  }
 },
 "nbformat": 4,
 "nbformat_minor": 5
}
